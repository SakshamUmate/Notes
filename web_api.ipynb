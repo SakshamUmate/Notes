{
 "cells": [
  {
   "cell_type": "code",
   "execution_count": null,
   "metadata": {},
   "outputs": [],
   "source": []
  },
  {
   "cell_type": "markdown",
   "metadata": {},
   "source": [
    "# Web API and APIs"
   ]
  },
  {
   "cell_type": "markdown",
   "metadata": {},
   "source": [
    "It can be maid with  protocols  like http-->hyper test transfer protocol\n",
    "tcp/ip--> Transmision control Protocol/Internet Protocol"
   ]
  },
  {
   "cell_type": "markdown",
   "metadata": {},
   "source": [
    "web api uses http potocol \n",
    "Api uses tcp/ip protocol -->for comunication betn tow systems"
   ]
  },
  {
   "cell_type": "markdown",
   "metadata": {},
   "source": [
    "# REST and SOAP\n",
    "Rest is used for webapi with https\n",
    "\n",
    "\n",
    "\n"
   ]
  },
  {
   "cell_type": "markdown",
   "metadata": {},
   "source": [
    "advantage=>Rest->->put,get,delete-->simplicity->scalable->flexible\n",
    "disadvantage=>REST->no memory of privious task,"
   ]
  },
  {
   "cell_type": "markdown",
   "metadata": {},
   "source": [
    "soap is XML(Extensible Markup Language) based. xml uses wsdl(webservice discribtion language)\n",
    "SOAP sapports to https,SMTP,TCP/IP\n",
    "SOAP-->memory of privious task , light wieghted,complex,good sequrity"
   ]
  },
  {
   "cell_type": "markdown",
   "metadata": {},
   "source": [
    "## REST (Reprasentational state transfer) \n",
    "REST principles:\n",
    "client-server architecture:c-s are sepret and allow to evolve indipendently\n",
    "Stateless: do not have memory of search\n",
    "chheable: it saves server response to improve performance.\n",
    "Uniform interface:GET,POST,PUT,DELETE\n",
    "Layered system:multi-layered \n"
   ]
  },
  {
   "cell_type": "markdown",
   "metadata": {},
   "source": [
    "## SOAP(Simple object acsess Protocol)\n"
   ]
  },
  {
   "cell_type": "markdown",
   "metadata": {},
   "source": []
  },
  {
   "cell_type": "code",
   "execution_count": null,
   "metadata": {},
   "outputs": [],
   "source": []
  }
 ],
 "metadata": {
  "kernelspec": {
   "display_name": "Python 3",
   "language": "python",
   "name": "python3"
  },
  "language_info": {
   "codemirror_mode": {
    "name": "ipython",
    "version": 3
   },
   "file_extension": ".py",
   "mimetype": "text/x-python",
   "name": "python",
   "nbconvert_exporter": "python",
   "pygments_lexer": "ipython3",
   "version": "3.11.4"
  }
 },
 "nbformat": 4,
 "nbformat_minor": 2
}
