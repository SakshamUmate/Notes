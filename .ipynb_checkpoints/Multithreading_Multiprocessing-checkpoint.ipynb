{
 "cells": [
  {
   "cell_type": "markdown",
   "metadata": {},
   "source": [
    "# Multithreading used to run multiple program in a single core ,genrally Multithreading is handled by os in python\n",
    "##### core is in processor might be dual-core,octa-core in proccesor.\n"
   ]
  },
  {
   "cell_type": "code",
   "execution_count": 6,
   "metadata": {},
   "outputs": [],
   "source": [
    "import threading"
   ]
  },
  {
   "cell_type": "code",
   "execution_count": 29,
   "metadata": {},
   "outputs": [],
   "source": [
    "def a(a1):\n",
    "    return print(f'my Squre of {a1} is :{a1**2}')"
   ]
  },
  {
   "cell_type": "code",
   "execution_count": 30,
   "metadata": {},
   "outputs": [],
   "source": [
    "#running single program with diff *args *in single core*\n",
    "thread=[threading.Thread(target=a,args=(i,))for i in range(10)]"
   ]
  },
  {
   "cell_type": "code",
   "execution_count": 31,
   "metadata": {},
   "outputs": [
    {
     "data": {
      "text/plain": [
       "[<Thread(Thread-55 (a), initial)>,\n",
       " <Thread(Thread-56 (a), initial)>,\n",
       " <Thread(Thread-57 (a), initial)>,\n",
       " <Thread(Thread-58 (a), initial)>,\n",
       " <Thread(Thread-59 (a), initial)>,\n",
       " <Thread(Thread-60 (a), initial)>,\n",
       " <Thread(Thread-61 (a), initial)>,\n",
       " <Thread(Thread-62 (a), initial)>,\n",
       " <Thread(Thread-63 (a), initial)>,\n",
       " <Thread(Thread-64 (a), initial)>]"
      ]
     },
     "execution_count": 31,
     "metadata": {},
     "output_type": "execute_result"
    }
   ],
   "source": [
    "thread"
   ]
  },
  {
   "cell_type": "code",
   "execution_count": 32,
   "metadata": {},
   "outputs": [
    {
     "data": {
      "text/plain": [
       "3089441289280"
      ]
     },
     "execution_count": 32,
     "metadata": {},
     "output_type": "execute_result"
    }
   ],
   "source": [
    "id(thread)\n",
    "#this threads are running in single process or single core"
   ]
  },
  {
   "cell_type": "code",
   "execution_count": 33,
   "metadata": {},
   "outputs": [
    {
     "name": "stdout",
     "output_type": "stream",
     "text": [
      "my Squre of 0 is :0\n",
      "my Squre of 1 is :1\n",
      "my Squre of 2 is :4\n",
      "my Squre of 3 is :9\n",
      "my Squre of 4 is :16\n",
      "my Squre of 5 is :25\n",
      "my Squre of 6 is :36\n",
      "my Squre of 7 is :49\n",
      "my Squre of 8 is :64\n",
      "my Squre of 9 is :81\n"
     ]
    }
   ],
   "source": [
    "for i in thread:\n",
    "    i.start()"
   ]
  },
  {
   "cell_type": "code",
   "execution_count": 2,
   "metadata": {},
   "outputs": [
    {
     "data": {
      "text/plain": [
       "\"import urllib\\nurllib.request.urlretrieve('url','filename')\""
      ]
     },
     "execution_count": 2,
     "metadata": {},
     "output_type": "execute_result"
    }
   ],
   "source": [
    "# to handle urls we use url-lib\n",
    "# helps to push library\n",
    "import urllib\n",
    "# this code get url and downloads the data in url webpage at \"filename\"\n",
    "urllib.request.urlretrieve('url','filename')\n"
   ]
  },
  {
   "cell_type": "code",
   "execution_count": 59,
   "metadata": {},
   "outputs": [],
   "source": [
    "import time\n",
    "def sl(id):\n",
    "    for i in range(3):\n",
    "        print(\"hello%d,%d,%s\"%(id,i,time.ctime()))\n",
    "        time.sleep(1)\n",
    "\n",
    "    "
   ]
  },
  {
   "cell_type": "code",
   "execution_count": 60,
   "metadata": {},
   "outputs": [
    {
     "name": "stdout",
     "output_type": "stream",
     "text": [
      "hello2,0,Sun Dec 31 16:04:49 2023\n",
      "hello2,1,Sun Dec 31 16:04:50 2023\n",
      "hello2,2,Sun Dec 31 16:04:51 2023\n"
     ]
    }
   ],
   "source": [
    "sl(2)"
   ]
  },
  {
   "cell_type": "code",
   "execution_count": 63,
   "metadata": {},
   "outputs": [],
   "source": [
    "a=[threading.Thread(target=sl,args=(i,))for i in range(10)]"
   ]
  },
  {
   "cell_type": "code",
   "execution_count": 64,
   "metadata": {},
   "outputs": [
    {
     "name": "stdout",
     "output_type": "stream",
     "text": [
      "hello0,0,Sun Dec 31 16:05:09 2023\n",
      "hello1,0,Sun Dec 31 16:05:09 2023\n",
      "hello2,0,Sun Dec 31 16:05:09 2023\n",
      "hello3,0,Sun Dec 31 16:05:09 2023\n",
      "hello4,0,Sun Dec 31 16:05:09 2023\n",
      "hello5,0,Sun Dec 31 16:05:09 2023\n",
      "hello6,0,Sun Dec 31 16:05:09 2023\n",
      "hello7,0,Sun Dec 31 16:05:09 2023\n",
      "hello8,0,Sun Dec 31 16:05:09 2023\n",
      "hello9,0,Sun Dec 31 16:05:09 2023\n"
     ]
    },
    {
     "name": "stdout",
     "output_type": "stream",
     "text": [
      "hello0,1,Sun Dec 31 16:05:10 2023\n",
      "hello1,1,Sun Dec 31 16:05:10 2023\n",
      "hello2,1,Sun Dec 31 16:05:10 2023\n",
      "hello5,1,Sun Dec 31 16:05:10 2023\n",
      "hello3,1,Sun Dec 31 16:05:10 2023\n",
      "hello4,1,Sun Dec 31 16:05:10 2023\n",
      "hello9,1,Sun Dec 31 16:05:10 2023\n",
      "hello8,1,Sun Dec 31 16:05:10 2023\n",
      "hello7,1,Sun Dec 31 16:05:10 2023\n",
      "hello6,1,Sun Dec 31 16:05:10 2023\n",
      "hello0,2,Sun Dec 31 16:05:11 2023\n",
      "hello2,2,Sun Dec 31 16:05:11 2023\n",
      "hello1,2,Sun Dec 31 16:05:11 2023\n",
      "hello5,2,Sun Dec 31 16:05:11 2023\n",
      "hello9,2,Sun Dec 31 16:05:11 2023\n",
      "hello4,2,Sun Dec 31 16:05:11 2023\n",
      "hello3,2,Sun Dec 31 16:05:11 2023\n",
      "hello7,2,Sun Dec 31 16:05:11 2023\n",
      "hello8,2,Sun Dec 31 16:05:11 2023\n",
      "hello6,2,Sun Dec 31 16:05:11 2023\n"
     ]
    }
   ],
   "source": [
    "for i in a:\n",
    "    i.start()"
   ]
  },
  {
   "cell_type": "code",
   "execution_count": 38,
   "metadata": {},
   "outputs": [
    {
     "data": {
      "text/plain": [
       "1921828103808"
      ]
     },
     "execution_count": 38,
     "metadata": {},
     "output_type": "execute_result"
    }
   ],
   "source": [
    "id(a)"
   ]
  },
  {
   "cell_type": "code",
   "execution_count": 70,
   "metadata": {},
   "outputs": [
    {
     "name": "stdout",
     "output_type": "stream",
     "text": [
      "😀\n"
     ]
    }
   ],
   "source": [
    "print('\\U0001F600')"
   ]
  },
  {
   "cell_type": "code",
   "execution_count": 74,
   "metadata": {},
   "outputs": [
    {
     "name": "stdout",
     "output_type": "stream",
     "text": [
      "0changed-->shared_var1😀\n"
     ]
    },
    {
     "name": "stdout",
     "output_type": "stream",
     "text": [
      "1changed-->shared_var2😀\n",
      "2changed-->shared_var3😀\n",
      "3changed-->shared_var4😀\n",
      "4changed-->shared_var5😀\n"
     ]
    }
   ],
   "source": [
    "shared_var=0\n",
    "lock_var= threading.Lock()\n",
    "def t(id):\n",
    "    global shared_var\n",
    "    with lock_var:\n",
    "        shared_var+=1\n",
    "        print(f'{id}changed-->shared_var{shared_var}\\U0001F600')\n",
    "        time.sleep(1)\n",
    "threads=[threading.Thread(target=t,args=(i,))for i in range(5)]\n",
    "for i in threads:\n",
    "    i.start()"
   ]
  },
  {
   "cell_type": "code",
   "execution_count": 77,
   "metadata": {},
   "outputs": [
    {
     "data": {
      "text/plain": [
       "'Sun Dec 31 16:21:25 2023'"
      ]
     },
     "execution_count": 77,
     "metadata": {},
     "output_type": "execute_result"
    }
   ],
   "source": [
    "time.asctime()\n"
   ]
  },
  {
   "cell_type": "code",
   "execution_count": 78,
   "metadata": {},
   "outputs": [
    {
     "data": {
      "text/plain": [
       "'Sun Dec 31 16:22:18 2023'"
      ]
     },
     "execution_count": 78,
     "metadata": {},
     "output_type": "execute_result"
    }
   ],
   "source": [
    "time.ctime()"
   ]
  },
  {
   "cell_type": "markdown",
   "metadata": {},
   "source": [
    "# Multiprocessing"
   ]
  },
  {
   "cell_type": "markdown",
   "metadata": {},
   "source": [
    "#### Multiprocessing is running multiple program or multiple instance of one program in many/Multiple processors in order to optimize time "
   ]
  },
  {
   "cell_type": "code",
   "execution_count": 3,
   "metadata": {},
   "outputs": [
    {
     "name": "stdout",
     "output_type": "stream",
     "text": [
      "Firstly my main program is printing this line,😀\n"
     ]
    }
   ],
   "source": [
    "import multiprocessing\n",
    "def Gret():\n",
    "    print(\"Happy new  year \\U0001F601\")\n",
    "\n",
    "if __name__==\"__main__\":#its calling main program of python which invoc python interpreter,compiler \n",
    "    m = multiprocessing.Process(target=Gret)\n",
    "    print(\"Firstly my main program is printing this line,\\U0001F600\")\n",
    "    m.start()\n",
    "    m.join() # waits program for thread to complite execution "
   ]
  },
  {
   "cell_type": "markdown",
   "metadata": {},
   "source": [
    "Multiprocessing with pool example:"
   ]
  },
  {
   "cell_type": "code",
   "execution_count": null,
   "metadata": {},
   "outputs": [],
   "source": [
    "import multiprocessing\n",
    "def sq(n):\n",
    "    return n**2\n",
    "\n",
    "if __name__=='__main__':      # Processes include no.of processors for task\n",
    "    with multiprocessing.Pool(processes=4)as pool: #returns value in Bulk\n",
    "        pool.map(sq,list(range(1,11)))\n",
    "        print(out)"
   ]
  },
  {
   "cell_type": "code",
   "execution_count": 4,
   "metadata": {},
   "outputs": [
    {
     "data": {
      "text/plain": [
       "[1, 2, 3, 4, 5, 6, 7, 8, 9, 10]"
      ]
     },
     "execution_count": 4,
     "metadata": {},
     "output_type": "execute_result"
    }
   ],
   "source": [
    "list(range(1,11))"
   ]
  },
  {
   "cell_type": "code",
   "execution_count": 3,
   "metadata": {},
   "outputs": [
    {
     "name": "stdout",
     "output_type": "stream",
     "text": [
      "😀\n"
     ]
    }
   ],
   "source": [
    "print('\\U0001F600')"
   ]
  },
  {
   "cell_type": "code",
   "execution_count": null,
   "metadata": {},
   "outputs": [],
   "source": []
  },
  {
   "cell_type": "code",
   "execution_count": null,
   "metadata": {},
   "outputs": [],
   "source": []
  },
  {
   "cell_type": "code",
   "execution_count": null,
   "metadata": {},
   "outputs": [],
   "source": []
  },
  {
   "cell_type": "code",
   "execution_count": null,
   "metadata": {},
   "outputs": [],
   "source": []
  },
  {
   "cell_type": "code",
   "execution_count": null,
   "metadata": {},
   "outputs": [],
   "source": []
  },
  {
   "cell_type": "code",
   "execution_count": null,
   "metadata": {},
   "outputs": [],
   "source": []
  }
 ],
 "metadata": {
  "kernelspec": {
   "display_name": "Python 3 (ipykernel)",
   "language": "python",
   "name": "python3"
  },
  "language_info": {
   "codemirror_mode": {
    "name": "ipython",
    "version": 3
   },
   "file_extension": ".py",
   "mimetype": "text/x-python",
   "name": "python",
   "nbconvert_exporter": "python",
   "pygments_lexer": "ipython3",
   "version": "3.11.4"
  }
 },
 "nbformat": 4,
 "nbformat_minor": 4
}
