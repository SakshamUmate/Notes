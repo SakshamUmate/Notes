{
 "cells": [
  {
   "cell_type": "code",
   "execution_count": 1,
   "id": "6fec9045-52d0-4b73-a354-c00837ad7b98",
   "metadata": {},
   "outputs": [],
   "source": [
    "#used when we write data in chunks(tukde) \n",
    "#for writeing byte type we use== print(b\"\")"
   ]
  },
  {
   "cell_type": "code",
   "execution_count": 2,
   "id": "2b7b093d-224e-4708-8920-551d6b4056ed",
   "metadata": {},
   "outputs": [],
   "source": [
    "import io # io == input output"
   ]
  },
  {
   "cell_type": "code",
   "execution_count": 11,
   "id": "2fedaeb2-33f8-443f-89ba-0a2f1d76c873",
   "metadata": {},
   "outputs": [],
   "source": [
    "with open(\"text.txt\",'wb')as f:\n",
    "    file =io.BufferedWriter(f)\n",
    "\n",
    "    file.write(b\"this is my first line \\n\")\n",
    "    file.write(b\"Now i am writing my second line\")\n",
    "    file.flush()"
   ]
  },
  {
   "cell_type": "code",
   "execution_count": 12,
   "id": "f42dc264-4959-42e4-a22a-79454ccc5826",
   "metadata": {},
   "outputs": [
    {
     "name": "stdout",
     "output_type": "stream",
     "text": [
      "b'this is my first line \\nNow i am writing my second line'\n"
     ]
    }
   ],
   "source": [
    "with open(\"text.txt\",'rb') as f:\n",
    "    file=io.BufferedReader(f)\n",
    "    d=file.read(109)\n",
    "    print(d)"
   ]
  },
  {
   "cell_type": "code",
   "execution_count": null,
   "id": "9a6278f5-383b-4d94-8201-ccfb12901a26",
   "metadata": {},
   "outputs": [],
   "source": []
  },
  {
   "cell_type": "code",
   "execution_count": null,
   "id": "35c3e7ba-f70d-4275-8379-7267cc5c6666",
   "metadata": {},
   "outputs": [],
   "source": []
  }
 ],
 "metadata": {
  "kernelspec": {
   "display_name": "Python 3 (ipykernel)",
   "language": "python",
   "name": "python3"
  },
  "language_info": {
   "codemirror_mode": {
    "name": "ipython",
    "version": 3
   },
   "file_extension": ".py",
   "mimetype": "text/x-python",
   "name": "python",
   "nbconvert_exporter": "python",
   "pygments_lexer": "ipython3",
   "version": "3.11.4"
  }
 },
 "nbformat": 4,
 "nbformat_minor": 5
}
