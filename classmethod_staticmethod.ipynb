{
 "cells": [
  {
   "cell_type": "code",
   "execution_count": 62,
   "id": "ebd61ea5-9f1b-456f-8672-ecfca1d56a4e",
   "metadata": {},
   "outputs": [],
   "source": [
    "#static method is used for utility funtion which are needed to run multiple time\n",
    "class bank:\n",
    "    def __init__(self,name,acco_no,balance):\n",
    "        self.name=name\n",
    "        self.acco_no=acco_no\n",
    "        self.balance=balance\n",
    "    \n",
    "    @staticmethod\n",
    "    def info(name_of_bank):\n",
    "        return print(name_of_bank)\n",
    "    @classmethod\n",
    "    def info_cls(cls):\n",
    "        cls.info(\"SBI\")\n",
    "    \n",
    "    \n",
    "    \n",
    "    def inf(self):\n",
    "        bank.info(\"SBI\")\n",
    "        print(\"hii\")\n",
    "        \n",
    "        "
   ]
  },
  {
   "cell_type": "code",
   "execution_count": 63,
   "id": "5641da88-b540-40b5-9ef6-48c3b7b52358",
   "metadata": {},
   "outputs": [
    {
     "name": "stdout",
     "output_type": "stream",
     "text": [
      "SBI\n"
     ]
    }
   ],
   "source": [
    "bank.info('SBI')"
   ]
  },
  {
   "cell_type": "code",
   "execution_count": 64,
   "id": "3f8be4ea-15e6-4946-aa09-bd4ada2340a9",
   "metadata": {},
   "outputs": [],
   "source": [
    "instance=bank('s',132,45)"
   ]
  },
  {
   "cell_type": "code",
   "execution_count": 65,
   "id": "2c51c0b4-f880-4596-a47e-a7411125e989",
   "metadata": {},
   "outputs": [
    {
     "name": "stdout",
     "output_type": "stream",
     "text": [
      "SBI\n"
     ]
    }
   ],
   "source": [
    "instance.info_cls()"
   ]
  },
  {
   "cell_type": "code",
   "execution_count": 66,
   "id": "88d2790e-7710-41a1-b0f5-2346865930ee",
   "metadata": {},
   "outputs": [
    {
     "name": "stdout",
     "output_type": "stream",
     "text": [
      "SBI\n",
      "hii\n"
     ]
    }
   ],
   "source": [
    "instance.inf()"
   ]
  },
  {
   "cell_type": "code",
   "execution_count": null,
   "id": "932a019d-9d5c-4915-bb04-05da9668a66c",
   "metadata": {},
   "outputs": [],
   "source": []
  },
  {
   "cell_type": "code",
   "execution_count": 85,
   "id": "531e29e1-4da5-4ff2-a29f-8cb710230e8b",
   "metadata": {},
   "outputs": [],
   "source": [
    "#without using instance we can pass the data in our class and \n",
    "# use classmethod as constrocter like which make instance of classmethod by which you can use funtion as well\n",
    "\n",
    "class bank:\n",
    "    def __init__(self,name,acco_no,balance):\n",
    "        self.name=name\n",
    "        self.acco_no=acco_no\n",
    "        self.balance=balance\n",
    "    @classmethod\n",
    "    def info(cls,name,acco_no,balance):\n",
    "        return cls(name,acco_no,balance)\n",
    "        \n",
    "    def into(self):\n",
    "        return self.name"
   ]
  },
  {
   "cell_type": "code",
   "execution_count": 86,
   "id": "ad23f2ac-6370-40e6-ba42-0a28d3b6024a",
   "metadata": {},
   "outputs": [],
   "source": [
    "p=bank.info('asf',64548,238)"
   ]
  },
  {
   "cell_type": "code",
   "execution_count": 87,
   "id": "c9ef1be5-3a82-4c3a-b5cc-e896d1154589",
   "metadata": {},
   "outputs": [
    {
     "data": {
      "text/plain": [
       "64548"
      ]
     },
     "execution_count": 87,
     "metadata": {},
     "output_type": "execute_result"
    }
   ],
   "source": [
    "p.acco_no"
   ]
  },
  {
   "cell_type": "code",
   "execution_count": 88,
   "id": "34dcdf45-8861-4860-88d5-76b66f6717fe",
   "metadata": {},
   "outputs": [
    {
     "data": {
      "text/plain": [
       "238"
      ]
     },
     "execution_count": 88,
     "metadata": {},
     "output_type": "execute_result"
    }
   ],
   "source": [
    "p.balance"
   ]
  },
  {
   "cell_type": "code",
   "execution_count": 89,
   "id": "7a0f40d5-9478-42b6-b3ea-8091064ed528",
   "metadata": {},
   "outputs": [
    {
     "data": {
      "text/plain": [
       "'asf'"
      ]
     },
     "execution_count": 89,
     "metadata": {},
     "output_type": "execute_result"
    }
   ],
   "source": [
    "p.into()"
   ]
  },
  {
   "cell_type": "code",
   "execution_count": null,
   "id": "32f999e2-9268-4997-a766-6c5d8d681785",
   "metadata": {},
   "outputs": [],
   "source": [
    "#__private _protected while encapsulation\n"
   ]
  }
 ],
 "metadata": {
  "kernelspec": {
   "display_name": "Python 3 (ipykernel)",
   "language": "python",
   "name": "python3"
  },
  "language_info": {
   "codemirror_mode": {
    "name": "ipython",
    "version": 3
   },
   "file_extension": ".py",
   "mimetype": "text/x-python",
   "name": "python",
   "nbconvert_exporter": "python",
   "pygments_lexer": "ipython3",
   "version": "3.11.4"
  }
 },
 "nbformat": 4,
 "nbformat_minor": 5
}
