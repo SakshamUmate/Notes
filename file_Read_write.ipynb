{
 "cells": [
  {
   "cell_type": "code",
   "execution_count": 9,
   "id": "902b2d3c-11f8-44e2-9cdf-3d4ee8adefbf",
   "metadata": {},
   "outputs": [],
   "source": [
    "# json is used for key : value paired data storing\n",
    "import json "
   ]
  },
  {
   "cell_type": "code",
   "execution_count": 3,
   "id": "0fd5f625-717d-47b2-94e8-4711b1f4351d",
   "metadata": {},
   "outputs": [],
   "source": [
    "data={1:'kfhfk','key':39579,'a':986765,'af':[1,3,56,7,8,909,434,4],2:('a','d')}"
   ]
  },
  {
   "cell_type": "code",
   "execution_count": 5,
   "id": "7058c455-f3c9-4f3b-ac04-56baef2e3d12",
   "metadata": {},
   "outputs": [],
   "source": [
    "with open (\"test.json\",\"w\")as f:\n",
    "    json.dump(data,f)"
   ]
  },
  {
   "cell_type": "code",
   "execution_count": 7,
   "id": "33e8300e-7a8f-453f-be5b-01efab0897ec",
   "metadata": {},
   "outputs": [],
   "source": [
    "with open (\"test.json\",\"r\") as f:\n",
    "    d=json.load(f)"
   ]
  },
  {
   "cell_type": "code",
   "execution_count": 8,
   "id": "50825ee7-4df4-4603-99f4-9179c6524f9c",
   "metadata": {},
   "outputs": [
    {
     "data": {
      "text/plain": [
       "{'1': 'kfhfk',\n",
       " 'key': 39579,\n",
       " 'a': 986765,\n",
       " 'af': [1, 3, 56, 7, 8, 909, 434, 4],\n",
       " '2': ['a', 'd']}"
      ]
     },
     "execution_count": 8,
     "metadata": {},
     "output_type": "execute_result"
    }
   ],
   "source": [
    "d"
   ]
  },
  {
   "cell_type": "code",
   "execution_count": 10,
   "id": "3d7ab4ae-cf53-49dc-b530-30039671203c",
   "metadata": {},
   "outputs": [],
   "source": [
    "# It is used for storing the comma seprated vales like list in tabular form like in table and columns\n",
    "import csv"
   ]
  },
  {
   "cell_type": "code",
   "execution_count": 18,
   "id": "798dd1b7-ce18-4d29-815e-7fd8792be151",
   "metadata": {},
   "outputs": [],
   "source": [
    "array=[['name','class','roll'],\n",
    "       ['hey',5,6],\n",
    "       ['assffg',4,6]\n",
    "      ]"
   ]
  },
  {
   "cell_type": "code",
   "execution_count": 19,
   "id": "74fee9a3-63e4-46d0-9923-0cd733f9e468",
   "metadata": {},
   "outputs": [],
   "source": [
    "with open (\"ex.csv\",'w') as f:\n",
    "    x_writer=csv.writer(f)\n",
    "\n",
    "    for i in array:\n",
    "        x_writer.writerow(i)"
   ]
  },
  {
   "cell_type": "code",
   "execution_count": 20,
   "id": "bc444770-f0e1-4147-adda-a48ae448dea5",
   "metadata": {},
   "outputs": [
    {
     "name": "stdout",
     "output_type": "stream",
     "text": [
      "['name', 'class', 'roll']\n",
      "[]\n",
      "['hey', '5', '6']\n",
      "[]\n",
      "['assffg', '4', '6']\n",
      "[]\n"
     ]
    }
   ],
   "source": [
    "with open(\"ex.csv\",'r') as f:\n",
    "    x=csv.reader(f)\n",
    "    for i in x:\n",
    "        print(i)"
   ]
  },
  {
   "cell_type": "code",
   "execution_count": 22,
   "id": "418e0ef5-91d4-4e2a-b1fc-7855c6b05c14",
   "metadata": {},
   "outputs": [],
   "source": [
    "#for binary data [it  is an image(base 64 me store hoti hai image) or video which is stored in binary number]"
   ]
  },
  {
   "cell_type": "code",
   "execution_count": 45,
   "id": "65c62f48-a098-4825-b44b-bb066bf55e1c",
   "metadata": {},
   "outputs": [],
   "source": [
    "with open('test.bin','wb') as f:\n",
    "    f.write(b\"\\U0001F602\\x01\\x02\\x03\")"
   ]
  },
  {
   "cell_type": "code",
   "execution_count": 46,
   "id": "6b42a92f-dd28-42b4-83ff-95c13256f3ff",
   "metadata": {},
   "outputs": [
    {
     "name": "stdout",
     "output_type": "stream",
     "text": [
      "\\U0001F602\u0001\u0002\u0003\n"
     ]
    }
   ],
   "source": [
    "with open(\"test.bin\") as f:\n",
    "    print(f.read())"
   ]
  },
  {
   "cell_type": "code",
   "execution_count": null,
   "id": "20563e80-5309-459e-8890-61ea6950c639",
   "metadata": {},
   "outputs": [],
   "source": []
  },
  {
   "cell_type": "code",
   "execution_count": null,
   "id": "b927cddf-d687-4ccf-8d31-4bcf3de43c1d",
   "metadata": {},
   "outputs": [],
   "source": []
  }
 ],
 "metadata": {
  "kernelspec": {
   "display_name": "Python 3 (ipykernel)",
   "language": "python",
   "name": "python3"
  },
  "language_info": {
   "codemirror_mode": {
    "name": "ipython",
    "version": 3
   },
   "file_extension": ".py",
   "mimetype": "text/x-python",
   "name": "python",
   "nbconvert_exporter": "python",
   "pygments_lexer": "ipython3",
   "version": "3.11.4"
  }
 },
 "nbformat": 4,
 "nbformat_minor": 5
}
