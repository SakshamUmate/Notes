{
 "cells": [
  {
   "cell_type": "code",
   "execution_count": 1,
   "id": "b4a5f0f1-7103-4b94-a16f-a09a345163c8",
   "metadata": {},
   "outputs": [],
   "source": [
    "import logging"
   ]
  },
  {
   "cell_type": "code",
   "execution_count": 2,
   "id": "56e969a9-892e-4f11-9ae2-fd19bd5f8b3d",
   "metadata": {},
   "outputs": [],
   "source": [
    "logging.basicConfig(filename=\"log.log\",level= logging.INFO)"
   ]
  },
  {
   "cell_type": "code",
   "execution_count": 3,
   "id": "4e98c767-a44f-421b-b8f6-1663f6df5020",
   "metadata": {},
   "outputs": [],
   "source": [
    "logging.info(\"hey i am back\")"
   ]
  },
  {
   "cell_type": "code",
   "execution_count": 4,
   "id": "ee5595f0-7f66-4d44-b29b-aff8d7b04836",
   "metadata": {},
   "outputs": [],
   "source": [
    "logging.shutdown()"
   ]
  },
  {
   "cell_type": "code",
   "execution_count": null,
   "id": "6f6aac09-72f9-4542-a64a-6f072d64a9f2",
   "metadata": {},
   "outputs": [],
   "source": [
    "1.NOTSET\n",
    "2.DEBUG\n",
    "3.INFO\n",
    "4.WARNING\n",
    "5.ERROR\n",
    "6.CRITICAL"
   ]
  },
  {
   "cell_type": "code",
   "execution_count": 15,
   "id": "7d42ee43-6853-4bae-8a8c-ef60923dfae7",
   "metadata": {},
   "outputs": [],
   "source": [
    "logging.basicConfig(filename=\"log.log\",level=logging.DEBUG, format ='%asctime)s %(message)s')\n",
    "#asctime is for logging time at the time of logging"
   ]
  },
  {
   "cell_type": "code",
   "execution_count": 16,
   "id": "43ca222a-e4ab-4b3b-9587-3b2abc591c19",
   "metadata": {},
   "outputs": [],
   "source": [
    "logging.info(\"here i am passing info\")"
   ]
  },
  {
   "cell_type": "code",
   "execution_count": 17,
   "id": "34f13627-b855-4630-98ed-c1be7a759930",
   "metadata": {},
   "outputs": [],
   "source": [
    "logging.warning(\"here is your warning\")"
   ]
  },
  {
   "cell_type": "code",
   "execution_count": 18,
   "id": "a4ffb223-5c07-44f8-9dba-e860a9317b64",
   "metadata": {},
   "outputs": [],
   "source": [
    "logging.error(\"this is error\")\n",
    "logging.critical(\"its your critical\")"
   ]
  },
  {
   "cell_type": "code",
   "execution_count": 11,
   "id": "974ce12d-e2bb-441a-b055-5376e9c20c8c",
   "metadata": {},
   "outputs": [],
   "source": [
    "logging.shutdown()"
   ]
  },
  {
   "cell_type": "code",
   "execution_count": 1,
   "id": "e3f0ef91-28fe-457d-ba22-e0d4e799cc5f",
   "metadata": {},
   "outputs": [],
   "source": [
    "import logging"
   ]
  },
  {
   "cell_type": "code",
   "execution_count": 2,
   "id": "735b69c4-1e4c-4e22-afbf-ab4d42a7a2bf",
   "metadata": {},
   "outputs": [],
   "source": [
    "logging.basicConfig(filename=\"xyz1.log\",level=logging.DEBUG, format='%(asctime)s %(message)s')\n",
    "#asctime is for logging time at the time of logging"
   ]
  },
  {
   "cell_type": "code",
   "execution_count": 3,
   "id": "76c57747-5a17-4b6a-be4a-572176120e3f",
   "metadata": {},
   "outputs": [],
   "source": [
    "logging.error(\"this is error\")\n",
    "logging.critical(\"its your critical\")"
   ]
  },
  {
   "cell_type": "code",
   "execution_count": 4,
   "id": "7933288d-f417-49bc-93ad-10589175650a",
   "metadata": {},
   "outputs": [],
   "source": [
    "logging.shutdown()"
   ]
  },
  {
   "cell_type": "code",
   "execution_count": 1,
   "id": "959631bc-25f5-41f1-8df4-6ff52ae9111b",
   "metadata": {},
   "outputs": [],
   "source": [
    "import logging"
   ]
  },
  {
   "cell_type": "code",
   "execution_count": 2,
   "id": "6ad6ca30-4e93-4bd1-b81a-eaf8548b3092",
   "metadata": {},
   "outputs": [],
   "source": [
    "logging.basicConfig(filename=\"xyz2.log\",level=logging.DEBUG, format='%(asctime)s %(name)s %(levelname)s %(message)s')"
   ]
  },
  {
   "cell_type": "code",
   "execution_count": 3,
   "id": "ae9da3d3-07df-41a4-ad9e-881789e43696",
   "metadata": {},
   "outputs": [],
   "source": [
    "\n",
    "logging.warning(\"here is your warning\")\n",
    "logging.error(\"this is error\")\n",
    "logging.critical(\"its your critical\")"
   ]
  },
  {
   "cell_type": "code",
   "execution_count": 9,
   "id": "c6863ada-11cd-459b-8168-5c8718cd667a",
   "metadata": {},
   "outputs": [],
   "source": [
    "logging.shutdown()"
   ]
  },
  {
   "cell_type": "code",
   "execution_count": 1,
   "id": "2d14c621-fccb-462b-990f-1423acb8426a",
   "metadata": {},
   "outputs": [],
   "source": [
    "l=[1,234,5,6,7,7,8,9,9,[1,23,4,65],\"fhkdf\",\"aghgfh\"]"
   ]
  },
  {
   "cell_type": "code",
   "execution_count": 2,
   "id": "fc941a23-46bb-4722-8a16-25a323148590",
   "metadata": {},
   "outputs": [
    {
     "name": "stdout",
     "output_type": "stream",
     "text": [
      "[1, 234, 5, 6, 7, 7, 8, 9, 9] ['fhkdf', 'aghgfh']\n"
     ]
    }
   ],
   "source": [
    "import logging\n",
    "logging.basicConfig(filename='trash.log',level=logging.DEBUG,format='%(asctime)s %(name)s %(levelname)s %(message)s')\n",
    "l1=list(filter(lambda x:type(x)==int,l))\n",
    "logging.info(\"here i use my filter fun() to filter intiger\")\n",
    "\n",
    "l2=list(filter(lambda X:type(X)==str,l))\n",
    "logging.info(\"here i used l2 list to store the second filter funtion of string\")\n",
    "\n",
    "print(l1,l2)"
   ]
  },
  {
   "cell_type": "code",
   "execution_count": null,
   "id": "cd4ed02a-65aa-40e1-85cb-871ca983d8a2",
   "metadata": {},
   "outputs": [],
   "source": [
    "# can also creat place holder like means add list in logging\n",
    "# it is an example not runable code\n",
    "logging.info(\"aihfhihffhaiughgf {l} {l1} {l2}\".format(list=l,list1=l1,list2=l2))"
   ]
  },
  {
   "cell_type": "code",
   "execution_count": null,
   "id": "4abf954f-f729-4236-bc31-e7745ad8ee19",
   "metadata": {},
   "outputs": [],
   "source": []
  }
 ],
 "metadata": {
  "kernelspec": {
   "display_name": "Python 3 (ipykernel)",
   "language": "python",
   "name": "python3"
  },
  "language_info": {
   "codemirror_mode": {
    "name": "ipython",
    "version": 3
   },
   "file_extension": ".py",
   "mimetype": "text/x-python",
   "name": "python",
   "nbconvert_exporter": "python",
   "pygments_lexer": "ipython3",
   "version": "3.11.4"
  }
 },
 "nbformat": 4,
 "nbformat_minor": 5
}
