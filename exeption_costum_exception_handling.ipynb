{
 "cells": [
  {
   "cell_type": "code",
   "execution_count": 1,
   "metadata": {},
   "outputs": [],
   "source": [
    "#Use always a specific exception \n",
    "# print always in propper manner \n",
    "#try to logging not print\n",
    "#always avoid writing multiple exeception write exact exception\n",
    "#document all the errror\n",
    "#cleanup all the resorses--> like closeing file in file_handling ,logging.shutdown()"
   ]
  },
  {
   "cell_type": "code",
   "execution_count": 17,
   "metadata": {},
   "outputs": [
    {
     "name": "stdout",
     "output_type": "stream",
     "text": [
      "[Errno 2] No such file or directory: 'tex.txt'\n"
     ]
    }
   ],
   "source": [
    "#Document all the errror\n",
    "\n",
    "try:\n",
    "    f=open(\"tex.txt\",\"r\")\n",
    "    f.read()\n",
    "except Exception as e:\n",
    "    print(e)\n",
    "finally :\n",
    "    f.close()"
   ]
  },
  {
   "cell_type": "code",
   "execution_count": 23,
   "metadata": {},
   "outputs": [
    {
     "name": "stderr",
     "output_type": "stream",
     "text": [
      "ERROR:root:i am having error in file not found:[Errno 2] No such file or directory: 'tex.txt'\n"
     ]
    },
    {
     "name": "stdout",
     "output_type": "stream",
     "text": [
      "[Errno 2] No such file or directory: 'tex.txt'\n"
     ]
    }
   ],
   "source": [
    "#try to logging not print\n",
    "import logging\n",
    "logging.basicConfig(filename='Exception.log',level=logging.ERROR,format='%(asctime)s %(name)s %(levelname)s %(message)s')\n",
    "try:\n",
    "    f=open(\"tex.txt\",\"r\")\n",
    "    f.read()\n",
    "except Exception as e:\n",
    "    logging.error(\"i am having error in file not found:{}\".format(e))\n",
    "    print(e)\n",
    "finally :\n",
    "    f.close() \n",
    "    logging.shutdown()\n",
    "#cleanup all the resorses    "
   ]
  },
  {
   "cell_type": "code",
   "execution_count": null,
   "metadata": {},
   "outputs": [],
   "source": []
  },
  {
   "cell_type": "code",
   "execution_count": 11,
   "metadata": {},
   "outputs": [
    {
     "name": "stdout",
     "output_type": "stream",
     "text": [
      "except this block invalid literal for int() with base 10: 'str'\n"
     ]
    }
   ],
   "source": [
    "a='str'\n",
    "try:\n",
    "    int(a)\n",
    "except Exception as e:#Exception is a class with many types of errors in it used here\n",
    "    print(\"except this block\",e)# e is an alias"
   ]
  },
  {
   "cell_type": "code",
   "execution_count": 15,
   "metadata": {},
   "outputs": [
    {
     "name": "stdout",
     "output_type": "stream",
     "text": [
      "1\n",
      "😀\n"
     ]
    }
   ],
   "source": [
    "a='1'\n",
    "try:\n",
    "    int(a)\n",
    "    print(a)\n",
    "except Exception as e: #Exception is a class with many types of errors in it used here\n",
    "    print(\"except this block\",e) # e is an alias\n",
    "else: \n",
    "    print(\"\\U0001F600\")\n",
    "    #it will excecute after try complite"
   ]
  },
  {
   "cell_type": "code",
   "execution_count": 16,
   "metadata": {},
   "outputs": [
    {
     "name": "stdout",
     "output_type": "stream",
     "text": [
      "😁\n"
     ]
    }
   ],
   "source": [
    "\n",
    "    print(\"\\U0001F601\")"
   ]
  },
  {
   "cell_type": "code",
   "execution_count": 20,
   "metadata": {},
   "outputs": [
    {
     "name": "stdout",
     "output_type": "stream",
     "text": [
      "except this block invalid literal for int() with base 10: 's'\n",
      "compasary to print in any case 😉\n"
     ]
    }
   ],
   "source": [
    "a='s'\n",
    "try:\n",
    "    int(a)\n",
    "    print(a)\n",
    "except Exception as e: #Exception is a class with many types of errors in it used here\n",
    "    print(\"except this block\",e) # e is an alias\n",
    "else: \n",
    "    print(\"\\U0001F600\")\n",
    "finally:\n",
    "    print(\"compasary to print in any case\",'\\U0001F609')"
   ]
  },
  {
   "cell_type": "code",
   "execution_count": 11,
   "metadata": {},
   "outputs": [],
   "source": [
    "#CUSTUM EXECEPTIONS\n",
    "class valid_age(Exception):     #we are inheriting the Exception class of errors  in our class \n",
    "    def __init__(self,msg):\n",
    "        self.msg=msg\n",
    "\n",
    "\n",
    "\n",
    "\n",
    "# IN COSTUM EXCEPTION HANDLING i am adding my own exception as a subclass(child_class)    of Exception class"
   ]
  },
  {
   "cell_type": "code",
   "execution_count": 14,
   "metadata": {},
   "outputs": [],
   "source": [
    "def valid1_age(age):\n",
    "        if age<0 or age>110 :\n",
    "            raise valid_age(\"invalid age\")       #raise will raise an exception named this->\"invalid age\"\n",
    "        else:\n",
    "            print(\"valid age\")        \n",
    "            \n",
    "# raise is also calling the  class  at [raise valid_age(\"invalid age\")]  -->  to include this exception also      "
   ]
  },
  {
   "cell_type": "code",
   "execution_count": 13,
   "metadata": {},
   "outputs": [
    {
     "name": "stdout",
     "output_type": "stream",
     "text": [
      "invalid age\n"
     ]
    }
   ],
   "source": [
    "try:\n",
    "    age=int(input()) \n",
    "    valid1_age(age)\n",
    "except valid_age as e:\n",
    "    print(e)\n",
    "        "
   ]
  },
  {
   "cell_type": "code",
   "execution_count": 20,
   "metadata": {},
   "outputs": [
    {
     "data": {
      "text/plain": [
       "'😉'"
      ]
     },
     "execution_count": 20,
     "metadata": {},
     "output_type": "execute_result"
    }
   ],
   "source": [
    "a='\\U0001F609'\n",
    "a"
   ]
  },
  {
   "cell_type": "code",
   "execution_count": 3,
   "metadata": {},
   "outputs": [
    {
     "name": "stdout",
     "output_type": "stream",
     "text": [
      "error: 😂\n"
     ]
    }
   ],
   "source": [
    "try:\n",
    "    3/0\n",
    "except:\n",
    "    print(\"error:\",\"\\U0001F602\")"
   ]
  },
  {
   "cell_type": "code",
   "execution_count": 5,
   "metadata": {},
   "outputs": [
    {
     "data": {
      "text/plain": [
       "['__add__',\n",
       " '__class__',\n",
       " '__class_getitem__',\n",
       " '__contains__',\n",
       " '__delattr__',\n",
       " '__delitem__',\n",
       " '__dir__',\n",
       " '__doc__',\n",
       " '__eq__',\n",
       " '__format__',\n",
       " '__ge__',\n",
       " '__getattribute__',\n",
       " '__getitem__',\n",
       " '__getstate__',\n",
       " '__gt__',\n",
       " '__hash__',\n",
       " '__iadd__',\n",
       " '__imul__',\n",
       " '__init__',\n",
       " '__init_subclass__',\n",
       " '__iter__',\n",
       " '__le__',\n",
       " '__len__',\n",
       " '__lt__',\n",
       " '__mul__',\n",
       " '__ne__',\n",
       " '__new__',\n",
       " '__reduce__',\n",
       " '__reduce_ex__',\n",
       " '__repr__',\n",
       " '__reversed__',\n",
       " '__rmul__',\n",
       " '__setattr__',\n",
       " '__setitem__',\n",
       " '__sizeof__',\n",
       " '__str__',\n",
       " '__subclasshook__',\n",
       " 'append',\n",
       " 'clear',\n",
       " 'copy',\n",
       " 'count',\n",
       " 'extend',\n",
       " 'index',\n",
       " 'insert',\n",
       " 'pop',\n",
       " 'remove',\n",
       " 'reverse',\n",
       " 'sort']"
      ]
     },
     "execution_count": 5,
     "metadata": {},
     "output_type": "execute_result"
    }
   ],
   "source": []
  },
  {
   "cell_type": "code",
   "execution_count": 10,
   "metadata": {},
   "outputs": [
    {
     "name": "stdout",
     "output_type": "stream",
     "text": [
      "division by zero\n"
     ]
    }
   ],
   "source": [
    "try :\n",
    "    9/0\n",
    "except Exception as e:       #--> This is Supper class\n",
    "    print(e)                  \n",
    "except ZeroDivisionError as e:    #--> Subclass\n",
    "    # this is called bad practice \n",
    "    print(\"hey\",e)"
   ]
  },
  {
   "cell_type": "code",
   "execution_count": null,
   "metadata": {},
   "outputs": [],
   "source": []
  },
  {
   "cell_type": "code",
   "execution_count": null,
   "metadata": {},
   "outputs": [],
   "source": []
  }
 ],
 "metadata": {
  "kernelspec": {
   "display_name": "Python 3",
   "language": "python",
   "name": "python3"
  },
  "language_info": {
   "codemirror_mode": {
    "name": "ipython",
    "version": 3
   },
   "file_extension": ".py",
   "mimetype": "text/x-python",
   "name": "python",
   "nbconvert_exporter": "python",
   "pygments_lexer": "ipython3",
   "version": "3.11.4"
  }
 },
 "nbformat": 4,
 "nbformat_minor": 2
}
