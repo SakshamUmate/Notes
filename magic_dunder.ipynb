{
 "cells": [
  {
   "cell_type": "code",
   "execution_count": 2,
   "id": "5b0d5fb9-8e7b-49b4-80af-9e4295c31ec5",
   "metadata": {},
   "outputs": [],
   "source": [
    "#magic (dunder=__x__) is called internally in python while runing"
   ]
  },
  {
   "cell_type": "code",
   "execution_count": 3,
   "id": "4b26fbfa-ab70-4f0a-80b8-1342f1bef18f",
   "metadata": {},
   "outputs": [],
   "source": [
    "# its just for understanding not for use in general"
   ]
  },
  {
   "cell_type": "code",
   "execution_count": 1,
   "id": "015dd0e9-4e25-447c-b079-6688e0e73891",
   "metadata": {},
   "outputs": [
    {
     "data": {
      "text/plain": [
       "['__abs__',\n",
       " '__add__',\n",
       " '__and__',\n",
       " '__bool__',\n",
       " '__ceil__',\n",
       " '__class__',\n",
       " '__delattr__',\n",
       " '__dir__',\n",
       " '__divmod__',\n",
       " '__doc__',\n",
       " '__eq__',\n",
       " '__float__',\n",
       " '__floor__',\n",
       " '__floordiv__',\n",
       " '__format__',\n",
       " '__ge__',\n",
       " '__getattribute__',\n",
       " '__getnewargs__',\n",
       " '__getstate__',\n",
       " '__gt__',\n",
       " '__hash__',\n",
       " '__index__',\n",
       " '__init__',\n",
       " '__init_subclass__',\n",
       " '__int__',\n",
       " '__invert__',\n",
       " '__le__',\n",
       " '__lshift__',\n",
       " '__lt__',\n",
       " '__mod__',\n",
       " '__mul__',\n",
       " '__ne__',\n",
       " '__neg__',\n",
       " '__new__',\n",
       " '__or__',\n",
       " '__pos__',\n",
       " '__pow__',\n",
       " '__radd__',\n",
       " '__rand__',\n",
       " '__rdivmod__',\n",
       " '__reduce__',\n",
       " '__reduce_ex__',\n",
       " '__repr__',\n",
       " '__rfloordiv__',\n",
       " '__rlshift__',\n",
       " '__rmod__',\n",
       " '__rmul__',\n",
       " '__ror__',\n",
       " '__round__',\n",
       " '__rpow__',\n",
       " '__rrshift__',\n",
       " '__rshift__',\n",
       " '__rsub__',\n",
       " '__rtruediv__',\n",
       " '__rxor__',\n",
       " '__setattr__',\n",
       " '__sizeof__',\n",
       " '__str__',\n",
       " '__sub__',\n",
       " '__subclasshook__',\n",
       " '__truediv__',\n",
       " '__trunc__',\n",
       " '__xor__',\n",
       " 'as_integer_ratio',\n",
       " 'bit_count',\n",
       " 'bit_length',\n",
       " 'conjugate',\n",
       " 'denominator',\n",
       " 'from_bytes',\n",
       " 'imag',\n",
       " 'numerator',\n",
       " 'real',\n",
       " 'to_bytes']"
      ]
     },
     "execution_count": 1,
     "metadata": {},
     "output_type": "execute_result"
    }
   ],
   "source": [
    "dir(int)"
   ]
  },
  {
   "cell_type": "code",
   "execution_count": 7,
   "id": "330e3cfd-4e01-4cde-bd77-62b7d2cca164",
   "metadata": {},
   "outputs": [],
   "source": [
    "a=10\n",
    "a=a+10"
   ]
  },
  {
   "cell_type": "code",
   "execution_count": 9,
   "id": "5a65c11b-e69a-487f-adaf-b46b8a4e9e05",
   "metadata": {},
   "outputs": [
    {
     "data": {
      "text/plain": [
       "30"
      ]
     },
     "execution_count": 9,
     "metadata": {},
     "output_type": "execute_result"
    }
   ],
   "source": [
    "a.__add__(10) #---> magic this is called internally while addition\n"
   ]
  },
  {
   "cell_type": "code",
   "execution_count": 15,
   "id": "a96d862c-68d3-4d55-9350-98fa6a7cd763",
   "metadata": {},
   "outputs": [],
   "source": [
    "class abc:\n",
    "    def __new__(self):\n",
    "        return print('hey budy')\n",
    "    def __init__(self):\n",
    "        return print('hello')\n",
    "        "
   ]
  },
  {
   "cell_type": "code",
   "execution_count": 14,
   "id": "8c3b315c-e7ad-491e-8536-92d1ad7fb3f3",
   "metadata": {},
   "outputs": [
    {
     "name": "stdout",
     "output_type": "stream",
     "text": [
      "hello\n"
     ]
    }
   ],
   "source": [
    "#without __new__\n",
    "a=abc()"
   ]
  },
  {
   "cell_type": "code",
   "execution_count": 16,
   "id": "18c90201-f86a-497f-b1b3-93cd6026fff6",
   "metadata": {},
   "outputs": [
    {
     "name": "stdout",
     "output_type": "stream",
     "text": [
      "hey budy\n"
     ]
    }
   ],
   "source": [
    "b=abc()"
   ]
  },
  {
   "cell_type": "code",
   "execution_count": null,
   "id": "bd200716-4804-4bee-b99e-fbe7d1842be8",
   "metadata": {},
   "outputs": [],
   "source": []
  }
 ],
 "metadata": {
  "kernelspec": {
   "display_name": "Python 3 (ipykernel)",
   "language": "python",
   "name": "python3"
  },
  "language_info": {
   "codemirror_mode": {
    "name": "ipython",
    "version": 3
   },
   "file_extension": ".py",
   "mimetype": "text/x-python",
   "name": "python",
   "nbconvert_exporter": "python",
   "pygments_lexer": "ipython3",
   "version": "3.11.4"
  }
 },
 "nbformat": 4,
 "nbformat_minor": 5
}
