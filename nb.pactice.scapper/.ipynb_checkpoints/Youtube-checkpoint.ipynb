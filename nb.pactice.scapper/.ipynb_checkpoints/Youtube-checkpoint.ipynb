{
 "cells": [
  {
   "cell_type": "code",
   "execution_count": 1,
   "metadata": {},
   "outputs": [],
   "source": [
    "import logging\n",
    "import requests\n",
    "import pymongo\n",
    "from urllib.request import urlopen as uReq\n",
    "from flask import Flask ,render_template,request,jsonify\n",
    "from bs4 import BeautifulSoup as bs\n",
    "from flask_cors import CORS,cross_origin\n",
    "from lxml import html"
   ]
  },
  {
   "cell_type": "code",
   "execution_count": 6,
   "metadata": {},
   "outputs": [],
   "source": [
    "# Y_page=uReq(Y_link)"
   ]
  },
  {
   "cell_type": "code",
   "execution_count": 7,
   "metadata": {
    "scrolled": true
   },
   "outputs": [],
   "source": [
    "# Y_page.read()"
   ]
  },
  {
   "cell_type": "code",
   "execution_count": 8,
   "metadata": {
    "scrolled": true
   },
   "outputs": [],
   "source": [
    "# Y_html=bs(Y_page.read(),\"html.parser\")\n"
   ]
  },
  {
   "cell_type": "code",
   "execution_count": 20,
   "metadata": {},
   "outputs": [],
   "source": [
    "# html_Y.prettify()"
   ]
  },
  {
   "cell_type": "code",
   "execution_count": 21,
   "metadata": {},
   "outputs": [],
   "source": [
    "# html_Y"
   ]
  },
  {
   "cell_type": "code",
   "execution_count": 9,
   "metadata": {},
   "outputs": [],
   "source": [
    "# Y_html.find_all(\"div\",{\"class\":\"style-scope ytd-rich-grid-row\"})"
   ]
  },
  {
   "cell_type": "code",
   "execution_count": 2,
   "metadata": {},
   "outputs": [],
   "source": [
    "Y_link=\"https://www.youtube.com/@PW-Foundation/videos\""
   ]
  },
  {
   "cell_type": "code",
   "execution_count": 3,
   "metadata": {},
   "outputs": [],
   "source": [
    "response=requests.get(Y_link)"
   ]
  },
  {
   "cell_type": "code",
   "execution_count": 4,
   "metadata": {},
   "outputs": [],
   "source": [
    "html_Y=bs(response.text,\"html.parser\")"
   ]
  },
  {
   "cell_type": "code",
   "execution_count": null,
   "metadata": {
    "scrolled": true
   },
   "outputs": [],
   "source": []
  },
  {
   "cell_type": "code",
   "execution_count": 8,
   "metadata": {},
   "outputs": [],
   "source": [
    "all_divs = html_Y.find('div', {'id' : 'contents'})\n"
   ]
  },
  {
   "cell_type": "code",
   "execution_count": null,
   "metadata": {},
   "outputs": [],
   "source": []
  },
  {
   "cell_type": "code",
   "execution_count": 20,
   "metadata": {},
   "outputs": [],
   "source": []
  },
  {
   "cell_type": "code",
   "execution_count": null,
   "metadata": {},
   "outputs": [],
   "source": []
  },
  {
   "cell_type": "code",
   "execution_count": null,
   "metadata": {},
   "outputs": [],
   "source": []
  },
  {
   "cell_type": "code",
   "execution_count": null,
   "metadata": {},
   "outputs": [],
   "source": []
  },
  {
   "cell_type": "code",
   "execution_count": null,
   "metadata": {},
   "outputs": [],
   "source": []
  },
  {
   "cell_type": "code",
   "execution_count": null,
   "metadata": {},
   "outputs": [],
   "source": [
    "import requests\n",
    "from bs4 import BeautifulSoup\n",
    "from selenium import webdriver\n",
    "from selenium.webdriver.common.keys import Keys\n",
    "import time\n",
    "import pandas as pd\n",
    "import numpy as np\n",
    "#%%\n",
    "#url of the page we want to scrape\n",
    "url = \"https://www.youtube.com/c/MrVivekBindra/videos\"\n",
    "# initiating the webdriver. Parameter includes the path of the webdriver.\n",
    "driver = webdriver.Chrome(r\"C:\\chromedriver.exe\") \n",
    "driver.get(url) \n",
    "\n",
    "# this is just to ensure that the page is loaded\n",
    "time.sleep(10) \n",
    "###  IMP MUST READ###\n",
    "#SCROLL THROUGHT THE WHOLE PAGE BEFOR RUNNING SCRIPT AFTER THIS TO GET ALL THE VIDEOS\n",
    "###\n",
    "#%%\n",
    "html = driver.page_source\n",
    "\n",
    "\n",
    "  \n",
    "# this renders the JS code and stores all\n",
    "# of the information in static HTML code.\n",
    "#%%\n",
    "# Now, we could simply apply bs4 to html variable\n",
    "#here we parse the html and define the container\n",
    "soup = BeautifulSoup(html, \"html.parser\")\n",
    "all_divs = soup.find('div', {'id' : 'contents'})\n",
    "#here we select all  the title of the videos\n",
    "job_profiles = all_divs.find_all('a',{'id' : 'video-title'})\n",
    "lenth = len(job_profiles)\n",
    "\n",
    "\n",
    "#here we select date uploaded and views of the video\n",
    "date = all_divs.find_all('span',{'class' : 'style-scope ytd-grid-video-renderer'})\n",
    "\n",
    "video_time = all_divs.find_all('span',{'class' : 'style-scope ytd-thumbnail-overlay-time-status-renderer'})\n",
    "\n",
    "title = []\n",
    "views = []\n",
    "on = []\n",
    "duration = []\n",
    "\n",
    "#extracting title date in list\n",
    "for i in job_profiles :\n",
    "  title.append(i.text)\n",
    "\n",
    "#extracting views and upload date in list\n",
    "n = 0\n",
    "while n<lenth*2:\n",
    "  try:\n",
    "    views.append(date[n].text)\n",
    "    on.append(date[n+1].text)\n",
    "    n = n+2\n",
    "  except:\n",
    "    break\n",
    "\n",
    "#extracting duration in list\n",
    "for i in video_time :\n",
    "  duration.append(i.text)\n",
    "\n",
    "\n",
    "#creating a df and storing everything in that df\n",
    "titleS = pd.Series(np.array(title),name = \"title\")\n",
    "viewsS = pd.Series(np.array(views),name = \"views\")\n",
    "onS = pd.Series(np.array(on),name = \"upload_date\")\n",
    "durationS = pd.Series(np.array(duration),name = \"duration\")\n",
    "\n",
    "df_temp = pd.DataFrame()\n",
    "df_temp[\"title\"] = titleS\n",
    "df_temp[\"views\"] = viewsS\n",
    "df_temp[\"upload_date\"] = onS\n",
    "df_temp[\"duration\"] = durationS\n",
    "\n",
    "df_temp.to_csv(r\"C:\\Users\\abhis\\Desktop\\YT_FIN\\MrVivekBindra.csv\")\n",
    "\n",
    "\n",
    "#count = 0\n",
    "#for i in job_profiles :\n",
    "#    print(i.text)\n",
    "#    count = count + 1\n",
    "#    if(count == 1016) :\n",
    "#        break\n",
    "##%%\n",
    "driver.close()"
   ]
  },
  {
   "cell_type": "code",
   "execution_count": 9,
   "metadata": {},
   "outputs": [
    {
     "name": "stdout",
     "output_type": "stream",
     "text": [
      "Collecting selenium==3.141.0\n",
      "  Downloading selenium-3.141.0-py2.py3-none-any.whl (904 kB)\n",
      "     ---------------------------------------- 0.0/904.6 kB ? eta -:--:--\n",
      "     - ------------------------------------- 30.7/904.6 kB 1.3 MB/s eta 0:00:01\n",
      "     ---- --------------------------------- 112.6/904.6 kB 1.6 MB/s eta 0:00:01\n",
      "     ---------- --------------------------- 245.8/904.6 kB 1.9 MB/s eta 0:00:01\n",
      "     -------------------- ----------------- 491.5/904.6 kB 3.1 MB/s eta 0:00:01\n",
      "     ------------------------------ ------- 737.3/904.6 kB 3.3 MB/s eta 0:00:01\n",
      "     -------------------------------------- 904.6/904.6 kB 3.8 MB/s eta 0:00:00\n",
      "Requirement already satisfied: urllib3 in c:\\users\\lenovo\\appdata\\local\\programs\\python\\python311\\lib\\site-packages (from selenium==3.141.0) (2.0.4)\n",
      "Installing collected packages: selenium\n",
      "  Attempting uninstall: selenium\n",
      "    Found existing installation: selenium 4.16.0\n",
      "    Uninstalling selenium-4.16.0:\n",
      "      Successfully uninstalled selenium-4.16.0\n",
      "Successfully installed selenium-3.141.0\n",
      "Note: you may need to restart the kernel to use updated packages.\n"
     ]
    }
   ],
   "source": [
    "pip install selenium==3.141.0"
   ]
  },
  {
   "cell_type": "code",
   "execution_count": null,
   "metadata": {},
   "outputs": [],
   "source": []
  },
  {
   "cell_type": "code",
   "execution_count": null,
   "metadata": {},
   "outputs": [],
   "source": []
  },
  {
   "cell_type": "code",
   "execution_count": null,
   "metadata": {},
   "outputs": [],
   "source": []
  },
  {
   "cell_type": "code",
   "execution_count": null,
   "metadata": {},
   "outputs": [],
   "source": []
  },
  {
   "cell_type": "code",
   "execution_count": null,
   "metadata": {},
   "outputs": [],
   "source": []
  },
  {
   "cell_type": "code",
   "execution_count": null,
   "metadata": {},
   "outputs": [],
   "source": []
  }
 ],
 "metadata": {
  "kernelspec": {
   "display_name": "Python 3 (ipykernel)",
   "language": "python",
   "name": "python3"
  },
  "language_info": {
   "codemirror_mode": {
    "name": "ipython",
    "version": 3
   },
   "file_extension": ".py",
   "mimetype": "text/x-python",
   "name": "python",
   "nbconvert_exporter": "python",
   "pygments_lexer": "ipython3",
   "version": "3.11.4"
  }
 },
 "nbformat": 4,
 "nbformat_minor": 4
}
