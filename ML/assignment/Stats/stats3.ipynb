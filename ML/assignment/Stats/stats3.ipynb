{
 "cells": [
  {
   "cell_type": "code",
   "execution_count": 1,
   "metadata": {},
   "outputs": [],
   "source": [
    "import scipy.stats"
   ]
  },
  {
   "cell_type": "markdown",
   "metadata": {},
   "source": [
    "## Q1: What is Estimation Statistics? Explain point estimate and interval estimate."
   ]
  },
  {
   "cell_type": "markdown",
   "metadata": {},
   "source": [
    "## Estimation Statistics\n",
    "\n",
    "Estimation statistics is a branch of statistics that focuses on estimating population parameters based on sample data. It involves two main types of estimates: point estimates and interval estimates.\n",
    "\n",
    "### Point Estimate\n",
    "\n",
    "A point estimate is a single value given as the estimate of a population parameter. It is calculated from the sample data and serves as the best guess for the unknown parameter.\n",
    "- **Example:** If we want to estimate the population mean (μ), we can use the sample mean (\\(\\bar{x}\\)) as a point estimate.\n",
    "\n",
    "### Interval Estimate\n",
    "\n",
    "An interval estimate, on the other hand, provides a range of values within which the population parameter is expected to lie. This range is typically expressed with a certain level of confidence, known as the confidence interval.\n",
    "\n",
    "- **Example:** Instead of just providing a single value for the population mean, we can provide an interval, such as \\((\\bar{x} - E, \\bar{x} + E)\\), where \\(E\\) is the margin of error. This interval gives us a range within which we believe the true population mean lies with a certain confidence level (e.g., 95%).\n",
    "\n",
    "### Differences between Point Estimate and Interval Estimate\n",
    "\n",
    "- **Precision:** A point estimate is a single value, providing no information about the possible error in the estimate. An interval estimate, however, gives a range, providing more information about the potential accuracy of the estimate.\n",
    "- **Confidence:** Interval estimates are associated with a confidence level (e.g., 95% confidence interval), indicating the likelihood that the interval contains the true population parameter. Point estimates do not provide this information.\n",
    "\n",
    "### Key Concepts in Interval Estimation\n",
    "\n",
    "- **Confidence Level:** This represents the degree of certainty or confidence that the interval estimate contains the true population parameter. Common confidence levels are 90%, 95%, and 99%.\n",
    "- **Margin of Error:** This is the amount added and subtracted from the point estimate to create the interval estimate. It accounts for the variability in the sample data and provides a measure of the precision of the interval estimate.\n",
    "\n",
    "### Example\n",
    "\n",
    "Suppose we have a sample of 100 students' test scores and we want to estimate the average score of all students.\n",
    "\n",
    "- **Point Estimate:** If the sample mean score is 75, then the point estimate for the population mean is 75.\n",
    "- **Interval Estimate:** If the margin of error is 5 and we use a 95% confidence level, the interval estimate might be \\( (70, 80) \\). This means we are 95% confident that the true average score of all students lies between 70 and 80.\n",
    "\n",
    "In summary, estimation statistics help us make informed guesses about population parameters using sample data. Point estimates provide a single best guess, while interval estimates offer a range of values with an associated confidence level, giving a more comprehensive picture of the possible values of the parameter.\n"
   ]
  },
  {
   "cell_type": "markdown",
   "metadata": {},
   "source": [
    "## Q2. Write a Python function to estimate the population mean using a sample mean and standard deviation."
   ]
  },
  {
   "cell_type": "markdown",
   "metadata": {},
   "source": [
    "### Estimating Population Mean using Sample Mean and Standard Deviation\n",
    "\n",
    "The following Python function estimates the population mean using the sample mean, sample standard deviation, and sample size. We will also calculate the confidence interval for the population mean."
   ]
  },
  {
   "cell_type": "code",
   "execution_count": 2,
   "metadata": {},
   "outputs": [
    {
     "name": "stdout",
     "output_type": "stream",
     "text": [
      "Estimated Population Mean: 75\n",
      "95% Confidence Interval: (73.01578304849131, 76.98421695150869)\n"
     ]
    }
   ],
   "source": [
    "import math\n",
    "from scipy.stats import t\n",
    "\n",
    "def estimate_population_mean(sample_mean, sample_std_dev, sample_size, confidence_level=0.95):\n",
    "    \"\"\"\n",
    "    Estimates the population mean and confidence interval using the sample mean, standard deviation, and size.\n",
    "\n",
    "    Parameters:\n",
    "    sample_mean (float): The mean of the sample.\n",
    "    sample_std_dev (float): The standard deviation of the sample.\n",
    "    sample_size (int): The size of the sample.\n",
    "    confidence_level (float): The confidence level for the interval estimate (default is 0.95).\n",
    "\n",
    "    Returns:\n",
    "    tuple: The estimated population mean and the confidence interval as (mean, lower_bound, upper_bound).\n",
    "    \"\"\"\n",
    "    # Calculate the standard error\n",
    "    standard_error = sample_std_dev / math.sqrt(sample_size)\n",
    "    \n",
    "    # Find the t-score for the confidence level\n",
    "    t_score = t.ppf((1 + confidence_level) / 2, df=sample_size - 1)\n",
    "    \n",
    "    # Calculate the margin of error\n",
    "    margin_of_error = t_score * standard_error\n",
    "    \n",
    "    # Calculate the confidence interval\n",
    "    lower_bound = sample_mean - margin_of_error\n",
    "    upper_bound = sample_mean + margin_of_error\n",
    "    \n",
    "    return sample_mean, lower_bound, upper_bound\n",
    "\n",
    "# Example usage\n",
    "sample_mean = 75\n",
    "sample_std_dev = 10\n",
    "sample_size = 100\n",
    "confidence_level = 0.95\n",
    "\n",
    "\n",
    "estimated_mean, lower_bound, upper_bound = estimate_population_mean(sample_mean, sample_std_dev, sample_size, confidence_level)\n",
    "print(f\"Estimated Population Mean: {estimated_mean}\")\n",
    "print(f\"95% Confidence Interval: ({lower_bound}, {upper_bound})\")\n"
   ]
  },
  {
   "cell_type": "markdown",
   "metadata": {},
   "source": [
    "## Q3: What is Hypothesis testing? Why is it used? State the importance of Hypothesis testing."
   ]
  },
  {
   "cell_type": "markdown",
   "metadata": {},
   "source": [
    "## Hypothesis Testing\n",
    "\n",
    "### What is Hypothesis Testing?\n",
    "\n",
    "Hypothesis testing is a statistical method used to make inferences or draw conclusions about a population based on sample data. It involves formulating two competing hypotheses and using sample data to determine which hypothesis is more likely to be true.\n",
    "\n",
    "#### Steps in Hypothesis Testing\n",
    "\n",
    "1. **State the Hypotheses:**\n",
    "   - **Null Hypothesis (H₀):** This is a statement of no effect or no difference. It represents the status quo or a baseline assumption.\n",
    "   - **Alternative Hypothesis (H₁ or Ha):** This is a statement that contradicts the null hypothesis. It represents what we are trying to provide evidence for.\n",
    "\n",
    "2. **Choose a Significance Level (α):** The significance level, often denoted by alpha (α), is the probability of rejecting the null hypothesis when it is actually true. Common values are 0.05, 0.01, and 0.10.\n",
    "\n",
    "3. **Collect Data and Calculate Test Statistic:** Gather sample data and compute a test statistic, which measures how far the sample data diverges from the null hypothesis.\n",
    "\n",
    "4. **Determine the p-Value or Critical Value:** The p-value is the probability of obtaining a test statistic as extreme as, or more extreme than, the observed value, assuming the null hypothesis is true. The critical value is a threshold that determines the rejection region for the null hypothesis.\n",
    "\n",
    "5. **Make a Decision:** Compare the p-value with the significance level (α) or the test statistic with the critical value to decide whether to reject or fail to reject the null hypothesis.\n",
    "\n",
    "6. **Draw a Conclusion:** Based on the decision, conclude whether there is enough evidence to support the alternative hypothesis.\n",
    "\n",
    "### Why is Hypothesis Testing Used?\n",
    "\n",
    "Hypothesis testing is used to make objective decisions about population parameters based on sample data. It helps in:\n",
    "\n",
    "- **Decision Making:** Provides a systematic way to evaluate claims or hypotheses about a population.\n",
    "- **Scientific Research:** Validates or refutes scientific theories and hypotheses.\n",
    "- **Quality Control:** Monitors and controls processes in manufacturing and production.\n",
    "- **Medical Studies:** Determines the efficacy of treatments or interventions.\n",
    "\n",
    "### Importance of Hypothesis Testing\n",
    "\n",
    "1. **Objective Analysis:** Hypothesis testing provides an objective framework for making decisions, reducing the influence of bias and subjectivity.\n",
    "\n",
    "2. **Validation of Claims:** It allows researchers and analysts to test the validity of claims or assumptions about a population, ensuring that conclusions are based on evidence.\n",
    "\n",
    "3. **Error Minimization:** By setting a significance level, hypothesis testing controls the probability of making Type I errors (false positives) and Type II errors (false negatives).\n",
    "\n",
    "4. **Scientific Rigor:** It is a fundamental aspect of the scientific method, promoting rigorous testing and validation of theories and hypotheses.\n",
    "\n",
    "5. **Business and Industry Applications:** Hypothesis testing is widely used in various fields, including business, finance, healthcare, and engineering, to make data-driven decisions and improve processes.\n",
    "\n",
    "In summary, hypothesis testing is a crucial statistical tool that enables researchers and analysts to make informed decisions, validate claims, and ensure the reliability and validity of their conclusions.\n"
   ]
  },
  {
   "cell_type": "markdown",
   "metadata": {},
   "source": [
    "## Q4. Create a hypothesis that states whether the average weight of male college students is greater than the average weight of female college students.\n"
   ]
  },
  {
   "cell_type": "markdown",
   "metadata": {},
   "source": [
    "## Hypothesis on Average Weight of Male and Female College Students\n",
    "\n",
    "### Research Question\n",
    "\n",
    "Is the average weight of male college students greater than the average weight of female college students?\n",
    "### Formulating the Hypotheses\n",
    "\n",
    "To answer this research question, we will set up the null and alternative hypotheses as follows:\n",
    "\n",
    "#### Null Hypothesis (H₀)\n",
    "\n",
    "The null hypothesis states that there is no difference in the average weight of male and female college students. Mathematically, this can be expressed as:\n",
    "\n",
    "\\[ H₀: $\\mu_{\\text{male}} \\leq \\mu_{\\text{female}} $\\]\n",
    "\n",
    "where:\n",
    "- \\($\\mu_{\\text{male}}$\\) is the average weight of male college students.\n",
    "- \\($\\mu_{\\text{female}}$\\) is the average weight of female college students.\n",
    "\n",
    "#### Alternative Hypothesis (H₁)\n",
    "\n",
    "The alternative hypothesis states that the average weight of male college students is greater than the average weight of female college students. Mathematically, this can be expressed as:\n",
    "\n",
    "\\[ H₁: $\\mu_{\\text{male}} > \\mu_{\\text{female}} $\\]\n",
    "\n",
    "### Significance Level\n",
    "\n",
    "To test these hypotheses, we will choose a significance level (α). Common choices for α are 0.05, 0.01, and 0.10. For this hypothesis test, we will use:\n",
    "\n",
    "\\[ $\\alpha = 0.05$ \\]\n",
    "\n",
    "### Test Statistic\n",
    "\n",
    "To test the hypotheses, we will use an appropriate test statistic (e.g., t-test for independent samples) based on the sample data collected from male and female college students.\n",
    "\n",
    "### Decision Rule\n",
    "\n",
    "We will compare the p-value obtained from the test statistic to the significance level (α) to make a decision:\n",
    "\n",
    "- If the p-value ≤ α, we reject the null hypothesis \\(H₀\\).\n",
    "- If the p-value > α, we fail to reject the null hypothesis \\(H₀\\).\n",
    "\n",
    "\n",
    "\n"
   ]
  },
  {
   "cell_type": "markdown",
   "metadata": {},
   "source": [
    "## Q5. Write a Python script to conduct a hypothesis test on the difference between two population means, given a sample from each population."
   ]
  },
  {
   "cell_type": "markdown",
   "metadata": {},
   "source": [
    "## Hypothesis Test for Difference Between Two Population Means\n",
    "\n",
    "This Python script conducts a hypothesis test to determine if there is a significant difference between the means of two populations, given a sample from each population.\n",
    "\n",
    "\n",
    "\n"
   ]
  },
  {
   "cell_type": "code",
   "execution_count": 3,
   "metadata": {},
   "outputs": [
    {
     "name": "stdout",
     "output_type": "stream",
     "text": [
      "T-statistic: 5.9783\n",
      "P-value: 0.0000\n",
      "Conclusion: Reject the null hypothesis\n"
     ]
    }
   ],
   "source": [
    "\n",
    "import numpy as np\n",
    "from scipy.stats import ttest_ind\n",
    "\n",
    "def conduct_hypothesis_test(sample1, sample2, alpha=0.05):\n",
    "    \"\"\"\n",
    "    Conducts a hypothesis test to determine if there is a significant difference\n",
    "    between the means of two populations based on two independent samples.\n",
    "    \n",
    "    Parameters:\n",
    "    sample1 (array-like): Sample data from population 1.\n",
    "    sample2 (array-like): Sample data from population 2.\n",
    "    alpha (float): Significance level for the test (default is 0.05).\n",
    "    \n",
    "    Returns:\n",
    "    dict: A dictionary containing the t-statistic, p-value, and test conclusion.\n",
    "    \"\"\"\n",
    "    # Perform the two-sample t-test\n",
    "    t_stat, p_value = ttest_ind(sample1, sample2)\n",
    "    \n",
    "    # Determine the conclusion\n",
    "    conclusion = \"Fail to reject the null hypothesis\"\n",
    "    if p_value < alpha:\n",
    "        conclusion = \"Reject the null hypothesis\"\n",
    "    # Compile results\n",
    "    results = {\n",
    "        't_statistic': t_stat,\n",
    "        'p_value': p_value,\n",
    "        'conclusion': conclusion\n",
    "    }\n",
    "    return results\n",
    "# Example usage\n",
    "# Sample data from two populations\n",
    "sample1 = np.array([72, 75, 78, 71, 69, 73, 74, 76, 75, 73])\n",
    "sample2 = np.array([65, 68, 70, 64, 67, 66, 69, 70, 68, 67])\n",
    "\n",
    "# Significance level\n",
    "alpha = 0.05\n",
    "\n",
    "# Conduct the hypothesis test\n",
    "test_results = conduct_hypothesis_test(sample1, sample2, alpha)\n",
    "\n",
    "# Display the results\n",
    "print(f\"T-statistic: {test_results['t_statistic']:.4f}\")\n",
    "print(f\"P-value: {test_results['p_value']:.4f}\")\n",
    "print(f\"Conclusion: {test_results['conclusion']}\")"
   ]
  },
  {
   "cell_type": "markdown",
   "metadata": {},
   "source": [
    "## Q6: What is a null and alternative hypothesis? Give some examples."
   ]
  },
  {
   "cell_type": "markdown",
   "metadata": {},
   "source": [
    "### Null and Alternative Hypothesis\n",
    "\n",
    "### Null Hypothesis (H₀)\n",
    "\n",
    "The null hypothesis is a statement that there is no effect, no difference, or no relationship between variables. It represents the status quo or a baseline assumption that any observed effect is due to chance.\n",
    "\n",
    "- **Notation:** \\( H₀ \\)\n",
    "- **Purpose:** To provide a statement that can be tested and possibly rejected.\n",
    "- **Example Statements:**\n",
    "  - The mean score of a standardized test is equal to 70.\n",
    "  - There is no difference in the average heights of men and women.\n",
    "  - A new drug has no effect on blood pressure.\n",
    "\n",
    "### Alternative Hypothesis (H₁ or Ha)\n",
    "\n",
    "The alternative hypothesis is a statement that contradicts the null hypothesis. It represents the presence of an effect, a difference, or a relationship between variables. It is what researchers aim to provide evidence for.\n",
    "\n",
    "- **Notation:** \\( H₁ \\) or \\( Ha \\)\n",
    "- **Purpose:** To propose an alternative to the null hypothesis that can be supported if the null hypothesis is rejected.\n",
    "- **Example Statements:**\n",
    "  - The mean score of a standardized test is not equal to 70.\n",
    "  - There is a difference in the average heights of men and women.\n",
    "  - A new drug has an effect on blood pressure.\n",
    "\n",
    "### Examples of Null and Alternative Hypotheses\n",
    "\n",
    "#### Example 1: Test Scores\n",
    "\n",
    "- **Research Question:** Is the mean score of a standardized test different from 70?\n",
    "  - **Null Hypothesis (H₀):** The mean score is equal to 70.\n",
    "    \\[$ H₀: \\mu = 70$ \\]\n",
    "  - **Alternative Hypothesis (H₁):** The mean score is not equal to 70.\n",
    "    \\[ $H₁: \\mu \\neq 70$ \\]\n",
    "\n",
    "#### Example 2: Average Heights\n",
    "\n",
    "- **Research Question:** Is there a difference in the average heights of men and women?\n",
    "  - **Null Hypothesis (H₀):** There is no difference in the average heights of men and women.\n",
    "    \\[ H₀:$ \\mu_{\\text{men}} = \\mu_{\\text{women}}$ \\]\n",
    "  - **Alternative Hypothesis (H₁):** There is a difference in the average heights of men and women.\n",
    "    \\[ H₁:$ \\mu_{\\text{men}} \\neq \\mu_{\\text{women}} $\\]\n",
    "\n",
    "#### Example 3: Drug Effectiveness\n",
    "\n",
    "- **Research Question:** Does a new drug affect blood pressure?\n",
    "  - **Null Hypothesis (H₀):** The new drug has no effect on blood pressure.\n",
    "    \\[ H₀: $\\mu_{\\text{drug}} = \\mu_{\\text{placebo}}$ \\]\n",
    "  - **Alternative Hypothesis (H₁):** The new drug has an effect on blood pressure.\n",
    "    \\[ H₁: $\\mu_{\\text{drug}} \\neq \\mu_{\\text{placebo}}$ \\]\n",
    "\n",
    "#### Example 4: Machine Performance\n",
    "\n",
    "- **Research Question:** Is the mean output of a machine greater than the target value of 100 units per hour?\n",
    "  - **Null Hypothesis (H₀):** The mean output is less than or equal to 100 units per hour.\n",
    "    \\[ H₀:$ \\mu \\leq 100$ \\]\n",
    "  - **Alternative Hypothesis (H₁):** The mean output is greater than 100 units per hour.\n",
    "    \\[ H₁:$ \\mu > 100 $\\]\n",
    "\n",
    "#### Example 5: Website Conversion Rates\n",
    "\n",
    "- **Research Question:** Does a new website design increase the conversion rate compared to the current design?\n",
    "  - **Null Hypothesis (H₀):** The conversion rate of the new design is less than or equal to the conversion rate of the current design.\n",
    "    \\[ $H₀: p_{\\text{new}} \\leq p_{\\text{current}} $\\]\n",
    "  - **Alternative Hypothesis (H₁):** The conversion rate of the new design is greater than the conversion rate of the current design.\n",
    "    \\[ $H₁: p_{\\text{new}} > p_{\\text{current}}$ \\]\n",
    "\n",
    "### Summary\n",
    "\n",
    "The null hypothesis (H₀) and alternative hypothesis (H₁) are fundamental concepts in hypothesis testing. The null hypothesis represents a statement of no effect or no difference, while the alternative hypothesis represents a statement that contradicts the null hypothesis. Hypothesis testing involves using sample data to evaluate these hypotheses and determine whether there is enough evidence to reject the null hypothesis in favor of the alternative hypothesis.\n"
   ]
  },
  {
   "cell_type": "markdown",
   "metadata": {},
   "source": [
    "## Q7: Write down the steps involved in hypothesis testing.\n"
   ]
  },
  {
   "cell_type": "markdown",
   "metadata": {},
   "source": [
    "### Steps in Hypothesis Testing\n",
    "\n",
    "Hypothesis testing is a systematic method used to make decisions about population parameters based on sample data. The following are the steps involved in hypothesis testing:\n",
    "\n",
    "### 1. State the Hypotheses\n",
    "\n",
    "- **Null Hypothesis (H₀):** A statement of no effect, no difference, or no relationship between variables. It represents the status quo or a baseline assumption.\n",
    "- **Alternative Hypothesis (H₁ or Ha):** A statement that contradicts the null hypothesis. It represents the presence of an effect, a difference, or a relationship between variables.\n",
    "\n",
    "#### Example\n",
    "- **Research Question:** Is the mean score of a standardized test different from 70?\n",
    "  - **Null Hypothesis (H₀):** The mean score is equal to 70.\n",
    "    \\[ $ H₀: \\mu = 70$ \\]\n",
    "  - **Alternative Hypothesis (H₁):** The mean score is not equal to 70.\n",
    "    \\[ H₁:$ \\mu \\neq 70$ \\]\n",
    "\n",
    "### 2. Choose the Significance Level (α)\n",
    "\n",
    "- The significance level (alpha) is the probability of rejecting the null hypothesis when it is true. It is the threshold for deciding whether an observed effect is statistically significant.\n",
    "- Common choices for α are 0.05, 0.01, and 0.10.\n",
    "\n",
    "#### Example\n",
    "\\[$ \\alpha = 0.05$ \\]\n",
    "\n",
    "### 3. Collect Data\n",
    "\n",
    "- Gather sample data from the population(s) of interest.\n",
    "- Ensure the data collection process is random and representative of the population.\n",
    "\n",
    "#### Example\n",
    "- **Sample Data:** [72, 75, 78, 71, 69, 73, 74, 76, 75, 73]\n",
    "\n",
    "### 4. Calculate the Test Statistic\n",
    "\n",
    "- The test statistic measures how far the sample data diverges from the null hypothesis. It depends on the type of hypothesis test being conducted (e.g., t-test, z-test, chi-square test).\n",
    "- Use statistical formulas or software to compute the test statistic.\n",
    "\n",
    "#### Example\n",
    "- **Test Statistic for t-test:** \\($ t = \\frac{\\bar{x} - \\mu}{s / \\sqrt{n}}$ \\)\n",
    "  - \\($\\bar{x}$\\) is the sample mean\n",
    "  - \\($ \\mu $\\) is the population mean under the null hypothesis\n",
    "  - \\(s\\) is the sample standard deviation\n",
    "  - \\(n\\) is the sample size\n",
    "\n",
    "### 5. Determine the p-Value or Critical Value\n",
    "\n",
    "- **p-Value:** The probability of obtaining a test statistic as extreme as, or more extreme than, the observed value, assuming the null hypothesis is true.\n",
    "- **Critical Value:** A threshold value that determines the rejection region for the null hypothesis.\n",
    "\n",
    "#### Example\n",
    "- If using a t-test with α = 0.05 and a two-tailed test, find the critical t-values from the t-distribution table.\n",
    "\n",
    "### 6. Make a Decision\n",
    "\n",
    "- Compare the p-value with the significance level (α):\n",
    "  - If p-value ≤ α, reject the null hypothesis (H₀).\n",
    "  - If p-value > α, fail to reject the null hypothesis (H₀).\n",
    "- Alternatively, compare the test statistic with the critical value(s):\n",
    "  - If the test statistic falls within the rejection region, reject the null hypothesis (H₀).\n",
    "  - If the test statistic does not fall within the rejection region, fail to reject the null hypothesis (H₀).\n",
    "\n",
    "#### Example\n",
    "- **Decision Rule for p-Value:** If p-value ≤ 0.05, reject \\( H₀ \\).\n",
    "\n",
    "### 7. Draw a Conclusion\n",
    "\n",
    "- Based on the decision, conclude whether there is sufficient evidence to support the alternative hypothesis.\n",
    "- Interpret the results in the context of the research question.\n",
    "\n",
    "#### Example\n",
    "- **Conclusion:** There is sufficient evidence to conclude that the mean score of the standardized test is different from 70.\n",
    "\n",
    "### Summary\n",
    "\n",
    "Hypothesis testing involves the following steps:\n",
    "1. State the hypotheses (null and alternative).\n",
    "2. Choose the significance level (α).\n",
    "3. Collect data.\n",
    "4. Calculate the test statistic.\n",
    "5. Determine the p-value or critical value.\n",
    "6. Make a decision based on the p-value or critical value.\n",
    "7. Draw a conclusion based on the decision.\n",
    "\n",
    "These steps provide a systematic approach to making data-driven decisions about population parameters based on sample data.\n"
   ]
  },
  {
   "cell_type": "markdown",
   "metadata": {},
   "source": [
    "## Q8. Define p-value and explain its significance in hypothesis testing."
   ]
  },
  {
   "cell_type": "markdown",
   "metadata": {},
   "source": [
    "## P-Value in Hypothesis Testing\n",
    "\n",
    "### Definition\n",
    "\n",
    "The p-value is the probability of obtaining a test statistic as extreme as, or more extreme than, the observed value, assuming the null hypothesis is true. It quantifies the strength of the evidence against the null hypothesis and is used to make decisions in hypothesis testing.\n",
    "\n",
    "### Significance Level (α) and P-Value\n",
    "\n",
    "- The significance level (α) is the threshold for deciding whether the p-value provides enough evidence to reject the null hypothesis.\n",
    "- Common choices for α are 0.05, 0.01, and 0.10.\n",
    "- If the p-value is less than or equal to α, we reject the null hypothesis.\n",
    "- If the p-value is greater than α, we fail to reject the null hypothesis.\n",
    "\n",
    "### Interpretation of P-Value\n",
    "\n",
    "- **Small P-Value (≤ α):** Indicates strong evidence against the null hypothesis, suggesting that the null hypothesis is unlikely to be true.\n",
    "- **Large P-Value (> α):** Indicates weak evidence against the null hypothesis, suggesting that the null hypothesis cannot be rejected.\n",
    "\n",
    "### Significance of P-Value in Hypothesis Testing\n",
    "\n",
    "1. **Decision Making:** The p-value helps in making decisions about whether to reject or fail to reject the null hypothesis.\n",
    "2. **Quantifying Evidence:** It quantifies the strength of the evidence against the null hypothesis.\n",
    "3. **Interpretation:** Provides a clear basis for interpreting the results of hypothesis tests.\n",
    "4. **Standardized Comparison:** Allows for standardized comparison across different hypothesis tests and studies.\n",
    "5. **Error Control:** Helps in controlling Type I error (false positives) by setting a significance level (α).\n",
    "\n",
    "### Example\n",
    "\n",
    "- **Research Question:** Is the mean score of a standardized test different from 70?\n",
    "- **Null Hypothesis (H₀):** The mean score is equal to 70.\n",
    "- **Alternative Hypothesis (H₁):** The mean score is not equal to 70.\n",
    "\n",
    "- **P-Value Interpretation:** If the p-value is 0.03 and α is 0.05, since 0.03 ≤ 0.05, we reject the null hypothesis. This means that there is sufficient evidence to conclude that the mean score is different from 70.\n",
    "\n",
    "In summary, the p-value is a crucial component of hypothesis testing that helps in making informed decisions about the null hypothesis based on the strength of the evidence provided by the sample data.\n"
   ]
  },
  {
   "cell_type": "markdown",
   "metadata": {},
   "source": [
    "## Q9. Generate a Student's t-distribution plot using Python's matplotlib library, with the degrees of freedom parameter set to 10."
   ]
  },
  {
   "cell_type": "code",
   "execution_count": 4,
   "metadata": {},
   "outputs": [
    {
     "data": {
      "image/png": "[encoded data removed]",
      "text/plain": [
       "<Figure size 700x400 with 1 Axes>"
      ]
     },
     "metadata": {},
     "output_type": "display_data"
    }
   ],
   "source": [
    "import numpy as np\n",
    "import matplotlib.pyplot as plt\n",
    "from scipy.stats import t\n",
    "\n",
    "# Set the degrees of freedom\n",
    "df = 10\n",
    "\n",
    "# Generate x values for the plot\n",
    "x = np.linspace(-4, 4, 1000)\n",
    "\n",
    "# Calculate the probability density function (PDF) values for the t-distribution\n",
    "y = t.pdf(x, df)\n",
    "\n",
    "# Plot the t-distribution\n",
    "plt.figure(figsize=(7, 4))\n",
    "plt.plot(x, y, label=f\"t-distribution (df={df})\")\n",
    "plt.title(\"Student's t-distribution\")\n",
    "plt.xlabel(\"x\")\n",
    "plt.ylabel(\"Probability Density\")\n",
    "plt.legend()\n",
    "plt.grid(True)\n",
    "plt.show()\n"
   ]
  },
  {
   "cell_type": "markdown",
   "metadata": {},
   "source": [
    "## Q10. Write a Python program to calculate the two-sample t-test for independent samples, given two random samples of equal size and a null hypothesis that the population means are equal."
   ]
  },
  {
   "cell_type": "code",
   "execution_count": 5,
   "metadata": {},
   "outputs": [
    {
     "name": "stdout",
     "output_type": "stream",
     "text": [
      "Sample 1: [ 0.49671415 -0.1382643   0.64768854  1.52302986 -0.23415337 -0.23413696\n",
      "  1.57921282  0.76743473 -0.46947439  0.54256004]\n",
      "Sample 2: [-0.46341769 -0.46572975  0.24196227 -1.91328024 -1.72491783 -0.56228753\n",
      " -1.01283112  0.31424733 -0.90802408 -1.4123037 ]\n",
      "Mean of Sample 1: 0.4481\n",
      "Mean of Sample 2: -0.7907\n",
      "Two-Sample t-Test:\n",
      "  - t-statistic: 3.7464\n",
      "  - p-value: 0.0015\n",
      "  - Conclusion: Reject the null hypothesis\n"
     ]
    }
   ],
   "source": [
    "import numpy as np\n",
    "from scipy.stats import ttest_ind\n",
    "\n",
    "# Generate two random samples of equal size\n",
    "np.random.seed(42)    # for reproducibility\n",
    "sample_size = 10\n",
    "sample1 = np.random.normal(loc=0, scale=1, size=sample_size)\n",
    "sample2 = np.random.normal(loc=0, scale=1, size=sample_size)\n",
    "\n",
    "# Perform two-sample t-test\n",
    "t_statistic, p_value = ttest_ind(sample1, sample2)\n",
    "\n",
    "# Print the results\n",
    "print(f\"Sample 1: {sample1}\")\n",
    "print(f\"Sample 2: {sample2}\")\n",
    "print(f\"Mean of Sample 1: {np.mean(sample1):.4f}\")\n",
    "print(f\"Mean of Sample 2: {np.mean(sample2):.4f}\")\n",
    "print(f\"Two-Sample t-Test:\")\n",
    "print(f\"  - t-statistic: {t_statistic:.4f}\")\n",
    "print(f\"  - p-value: {p_value:.4f}\")\n",
    "print(f\"  - Conclusion: {'Reject the null hypothesis' if p_value < 0.05 else 'Fail to reject the null hypothesis'}\")\n"
   ]
  },
  {
   "cell_type": "markdown",
   "metadata": {},
   "source": [
    "## Q11: What is Student’s t distribution? When to use the t-Distribution."
   ]
  },
  {
   "cell_type": "markdown",
   "metadata": {},
   "source": [
    "## Student’s t Distribution\n",
    "\n",
    "Student's t-distribution, or simply the t-distribution, is a probability distribution that is used to estimate population parameters when the sample size is small and/or when the population standard deviation is unknown. It is similar to the standard normal distribution but has heavier tails, allowing for greater variability.\n",
    "\n",
    "### When to Use the t-Distribution\n",
    "\n",
    "The t-distribution is commonly used in hypothesis testing and confidence interval estimation for the population mean when the following conditions are met:\n",
    "\n",
    "1. **Small Sample Size:** When the sample size is small (typically \\(n < 30\\)), the t-distribution is used instead of the normal distribution.\n",
    "   \n",
    "2. **Unknown Population Standard Deviation:** When the population standard deviation is unknown and must be estimated from the sample data, the t-distribution is used.\n",
    "\n",
    "3. **Population Distribution:** When the population is normally distributed or approximately normally distributed, the t-distribution is appropriate for inference about the population mean.\n",
    "\n",
    "### Key Features of the t-Distribution\n",
    "\n",
    "- **Shape:** The shape of the t-distribution depends on the degrees of freedom (\\(df\\)), which is determined by the sample size. As the sample size increases, the t-distribution approaches the standard normal distribution.\n",
    "\n",
    "- **Heavier Tails:** Compared to the normal distribution, the t-distribution has heavier tails, which means it allows for more extreme values and is less sensitive to outliers in small samples.\n",
    "\n",
    "- **Centered at 0:** Like the standard normal distribution, the t-distribution is centered at 0.\n",
    "\n",
    "- **Parameter:** The t-distribution has a single parameter, the degrees of freedom (\\(df\\)), which affects its shape and determines the width of its tails.\n",
    "\n",
    "Overall, the t-distribution is a valuable tool in statistical inference, especially when dealing with small sample sizes or when the population standard deviation is unknown.\n"
   ]
  },
  {
   "cell_type": "markdown",
   "metadata": {},
   "source": [
    "## Q12: What is t-statistic? State the formula for t-statistic."
   ]
  },
  {
   "cell_type": "markdown",
   "metadata": {},
   "source": [
    "### Student’s t Distribution\n",
    "\n",
    "**Student's t-distribution**, or simply the t-distribution, is a probability distribution that is used to estimate population parameters when the sample size is small and/or when the population standard deviation is unknown. It is similar to the standard normal distribution but has heavier tails, allowing for greater variability.\n",
    "\n",
    "### When to Use the t-Distribution\n",
    "\n",
    "The t-distribution is commonly used in hypothesis testing and confidence interval estimation for the population mean when the following conditions are met:\n",
    "\n",
    "1. **Small Sample Size:** When the sample size is small (typically n < 30), the t-distribution is used instead of the normal distribution.\n",
    "   \n",
    "2. **Unknown Population Standard Deviation:** When the population standard deviation is unknown and must be estimated from the sample data, the t-distribution is used.\n",
    "\n",
    "3. **Population Distribution:** When the population is normally distributed or approximately normally distributed, the t-distribution is appropriate for inference about the population mean.\n",
    "\n",
    "### Key Features of the t-Distribution\n",
    "\n",
    "- **Shape:** The shape of the t-distribution depends on the degrees of freedom (df), which is determined by the sample size. As the sample size increases, the t-distribution approaches the standard normal distribution.\n",
    "\n",
    "- **Heavier Tails:** Compared to the normal distribution, the t-distribution has heavier tails, which means it allows for more extreme values and is less sensitive to outliers in small samples.\n",
    "\n",
    "- **Centered at 0:** Like the standard normal distribution, the t-distribution is centered at 0.\n",
    "\n",
    "- **Parameter:** The t-distribution has a single parameter, the degrees of freedom (df), which affects its shape and determines the width of its tails.\n",
    "\n",
    "Overall, the t-distribution is a valuable tool in statistical inference, especially when dealing with small sample sizes or when the population standard deviation is unknown.\n"
   ]
  },
  {
   "cell_type": "markdown",
   "metadata": {},
   "source": [
    "## Q13. A coffee shop owner wants to estimate the average daily revenue for their shop. They take a random sample of 50 days and find the sample mean revenue to be $500 with a standard deviation of $50. Estimate the population mean revenue with a 95% confidence interval."
   ]
  },
  {
   "cell_type": "markdown",
   "metadata": {},
   "source": [
    "$\\mu$ = $500\n",
    "<!-- H (null hypothesys) :  -->\n",
    "<!-- H (alternate hypothesys) : $\\mu$ != $500 -->\n",
    "\n",
    "confidence level = 95% = 0.95\n",
    "\n",
    "so, $\\alpha$ (significance level)= 0.05\n",
    "\n",
    "standerd devience $\\sigma$ = $50"
   ]
  },
  {
   "cell_type": "code",
   "execution_count": 6,
   "metadata": {},
   "outputs": [
    {
     "name": "stdout",
     "output_type": "stream",
     "text": [
      "95% Confidence Interval: (469.0102, 530.9898)\n"
     ]
    }
   ],
   "source": [
    "from scipy.stats import norm\n",
    "\n",
    "z_score = norm.ppf(0.975)\n",
    "std_sample= 50\n",
    "std_error = std_sample / (sample_size**0.5)\n",
    "mean= 500\n",
    "margin_of_error = z_score * std_error\n",
    "upper_bound=mean + margin_of_error\n",
    "lower_bound=mean - margin_of_error\n",
    "print(f\"95% Confidence Interval: ({lower_bound:.4f}, {upper_bound:.4f})\")"
   ]
  },
  {
   "cell_type": "markdown",
   "metadata": {},
   "source": [
    "So, the 95% confidence interval for the population mean revenue is approximately $469.0102 to $530.9898 ."
   ]
  },
  {
   "cell_type": "markdown",
   "metadata": {},
   "source": [
    "### Q14. A researcher hypothesizes that a new drug will decrease blood pressure by 10 mmHg. They conduct a clinical trial with 100 patients and find that the sample mean decrease in blood pressure is 8 mmHg with a standard deviation of 3 mmHg. Test the hypothesis with a significance level of 0.05."
   ]
  },
  {
   "cell_type": "markdown",
   "metadata": {},
   "source": [
    "H (null hypothesys) : $ \\mu$ = 10\n",
    "\n",
    "H (alternate hypothesys) : $\\mu$ < 10\n",
    "\n",
    "mean $\\mu$ =10\n",
    "\n",
    "confidence level $\\alpha$ = 95% = 0.95\n",
    "\n",
    "significance level $\\alpha$ = 0.05\n",
    "\n",
    "sample_mean $\\mu$ = 8\n",
    "\n",
    "sample_size (n) = 100\n",
    "\n",
    "standerd devience $\\sigma$ = 3"
   ]
  },
  {
   "cell_type": "code",
   "execution_count": 7,
   "metadata": {},
   "outputs": [
    {
     "name": "stdout",
     "output_type": "stream",
     "text": [
      "t-value: -6.6667\n",
      "t-critical value: -1.6604\n"
     ]
    }
   ],
   "source": [
    "S_mean= 8\n",
    "sample_size = 100\n",
    "mean =10\n",
    "std = 3\n",
    "t= (S_mean-mean)/(std/math.sqrt(sample_size))\n",
    "print(f\"t-value: {t:.4f}\")\n",
    "from scipy.stats import t\n",
    "t_test = t.ppf(0.05, df=sample_size-1)\n",
    "print(f\"t-critical value: {t_test:.4f}\")\n"
   ]
  },
  {
   "cell_type": "markdown",
   "metadata": {},
   "source": [
    "Since the absolute value of the test statistic (-6.67) is greater than the critical value (-1.6604),\n",
    " we reject the null hypothesis. This means that there is sufficient evidence to conclude that the new drug decreases blood pressure by more than 10 mmHg."
   ]
  },
  {
   "cell_type": "markdown",
   "metadata": {},
   "source": [
    "### Q15. An electronics company produces a certain type of product with a mean weight of 5 pounds and a standard deviation of 0.5 pounds. A random sample of 25 products is taken, and the sample mean weight is found to be 4.8 pounds. Test the hypothesis that the true mean weight of the products is less than 5 pounds with a significance level of 0.01."
   ]
  },
  {
   "cell_type": "markdown",
   "metadata": {},
   "source": [
    "### Hypothesis Testing for Mean Weight of Products\n",
    "\n",
    "**Given:**\n",
    "- Population mean weight (\\($ \\mu $\\)): 5 pounds\n",
    "- Population standard deviation (\\( $\\sigma$ \\)): 0.5 pounds\n",
    "- Sample mean weight (\\( $\\bar{x} $\\)): 4.8 pounds\n",
    "- Sample size (\\( n \\)): 25\n",
    "- Significance level (\\( $\\alpha $\\)): 0.01\n",
    "\n",
    "**Hypotheses:**\n",
    "- Null Hypothesis (\\( $ H_0 $ \\)): \\( $\\mu \\geq 5 $\\) pounds\n",
    "- Alternative Hypothesis (\\($ H_1 $\\)): \\($ \\mu < 5$ \\) pounds\n",
    "\n",
    "**Test Statistic:**\n",
    "\\[ t = $\\frac{\\bar{x} - \\mu}{s / \\sqrt{n}} $\\]\n",
    "\n",
    "Where \\( s \\) is the sample standard deviation.\n",
    "\n",
    "**Calculation:**\n",
    "\\[$ t = \\frac{4.8 - 5}{0.5 / \\sqrt{25}} $\\]\n",
    "\\[ $ t = \\frac{-0.2}{0.1}$ \\]\n",
    "\\[ t = -2 \\]\n",
    "\n",
    "**Critical Value:**\n",
    "For a one-tailed test with \\( $\\alpha = 0.01$ \\) and 24 degrees of freedom, the critical value is approximately -2.4922.\n",
    "\n",
    "**Decision:**\n",
    "Since the test statistic (-2) is greater than the critical value (-2.4922), we fail to reject the null hypothesis.\n",
    "\n",
    "**Conclusion:**\n",
    "There is not enough evidence to conclude that the true mean weight of the products is less than 5 pounds at the 0.01 significance level.\n"
   ]
  },
  {
   "cell_type": "markdown",
   "metadata": {},
   "source": [
    "###  Q16. Two groups of students are given different study materials to prepare for a test. The first group (n1 =30) has a mean score of 80 with a standard deviation of 10, and the second group (n2 = 40) has a mean score of 75 with a standard deviation of 8. Test the hypothesis that the population means for the two groups are equal with a significance level of 0.01."
   ]
  },
  {
   "cell_type": "markdown",
   "metadata": {},
   "source": [
    "To test the hypothesis that the population means for the two groups are equal, you can perform an independent samples t-test. The null hypothesis (H0) is that the population means are equal, and the alternative hypothesis (H1) is that the population means are not equal.\n",
    "\n",
    "Here's how you can perform this test in Python using the scipy.stats module:"
   ]
  },
  {
   "cell_type": "code",
   "execution_count": 8,
   "metadata": {},
   "outputs": [
    {
     "data": {
      "text/plain": [
       "(2.323967729699292, 0.02312301341372599)"
      ]
     },
     "execution_count": 8,
     "metadata": {},
     "output_type": "execute_result"
    }
   ],
   "source": [
    "import numpy as np\n",
    "from scipy import stats\n",
    "\n",
    "# Group 1\n",
    "n1 = 30\n",
    "mean1 = 80\n",
    "std1 = 10\n",
    "# Group 2\n",
    "n2 = 40\n",
    "mean2 = 75\n",
    "std2 = 8\n",
    "\n",
    "# Calculate the t-statistic and the p-value\n",
    "t_statistic, p_value = stats.ttest_ind_from_stats(mean1, std1, n1, mean2, std2, n2)\n",
    "\n",
    "t_statistic, p_value"
   ]
  },
  {
   "cell_type": "markdown",
   "metadata": {},
   "source": [
    "### Q17. A marketing company wants to estimate the average number of ads watched by viewers during a TV program. They take a random sample of 50 viewers and find that the sample mean is 4 with a standard deviation of 1.5. Estimate the population mean with a 99% confidence interval."
   ]
  },
  {
   "cell_type": "markdown",
   "metadata": {},
   "source": [
    "### Estimating the Population Mean with a 99% Confidence Interval\n",
    "\n",
    "To estimate the population mean with a 99% confidence interval, we will use the sample data provided. The sample mean ($\\bar{x}$) is 4, the sample standard deviation ($s$) is 1.5, and the sample size ($n$) is 50.\n",
    "\n",
    "### Step-by-Step Solution\n",
    "\n",
    "#### Step 1: Calculate the Standard Error of the Mean (SEM)\n",
    "The standard error of the mean is given by:\n",
    "\n",
    "$ \\text{SEM} = \\frac{s}{\\sqrt{n}}$\n",
    "\n",
    "Substituting the given values:\n",
    "\n",
    "$\\text{SEM} = \\frac{1.5}{\\sqrt{50}} = \\frac{1.5}{7.071} \\approx 0.212$\n",
    "\n",
    "#### Step 2: Determine the Critical Value\n",
    "For a 99% confidence interval, the critical value ($z^*$) corresponds to the 99% confidence level in a standard normal distribution. The critical value for a 99% confidence interval is approximately 2.576.\n",
    "\n",
    "#### Step 3: Calculate the Margin of Error (ME)\n",
    "The margin of error is given by:\n",
    "\n",
    "$\\text{ME} = z^* \\times \\text{SEM}$\n",
    "\n",
    "Substituting the values:\n",
    "\n",
    "$\\text{ME} = 2.576 \\times 0.212 \\approx 0.546 $\n",
    "\n",
    "#### Step 4: Determine the Confidence Interval\n",
    "The confidence interval is calculated as:\n",
    "\n",
    "$\\left( \\bar{x} - \\text{ME}, \\bar{x} + \\text{ME} \\right) $\n",
    "\n",
    "Substituting the values:\n",
    "\n",
    "$\\left( 4 - 0.546, 4 + 0.546 \\right) = \\left( 3.454, 4.546 \\right)$\n",
    "\n",
    "### Conclusion\n",
    "The 99% confidence interval for the population mean is approximately:\n",
    "\n",
    "$(3.454, 4.546)$\n"
   ]
  },
  {
   "cell_type": "code",
   "execution_count": 16,
   "metadata": {},
   "outputs": [],
   "source": [
    "from scipy.stats import norm\n",
    "\n",
    "z_score = norm.ppf(1-0.025)"
   ]
  },
  {
   "cell_type": "code",
   "execution_count": 17,
   "metadata": {},
   "outputs": [
    {
     "data": {
      "text/plain": [
       "559.1992796908011"
      ]
     },
     "execution_count": 17,
     "metadata": {},
     "output_type": "execute_result"
    }
   ],
   "source": [
    "520+z_score*(100/5)"
   ]
  },
  {
   "cell_type": "code",
   "execution_count": 18,
   "metadata": {},
   "outputs": [
    {
     "data": {
      "text/plain": [
       "480.80072030919894"
      ]
     },
     "execution_count": 18,
     "metadata": {},
     "output_type": "execute_result"
    }
   ],
   "source": [
    "520-z_score*(100/5)"
   ]
  },
  {
   "cell_type": "code",
   "execution_count": 1,
   "metadata": {},
   "outputs": [
    {
     "data": {
      "text/plain": [
       "16.968325791855204"
      ]
     },
     "execution_count": 1,
     "metadata": {},
     "output_type": "execute_result"
    }
   ],
   "source": [
    "6/0.3536\n"
   ]
  },
  {
   "cell_type": "code",
   "execution_count": 2,
   "metadata": {},
   "outputs": [
    {
     "data": {
      "text/plain": [
       "nan"
      ]
     },
     "execution_count": 2,
     "metadata": {},
     "output_type": "execute_result"
    }
   ],
   "source": [
    "from scipy.stats import t\n",
    "t.ppf(16.968325791855204, df=50-1)"
   ]
  },
  {
   "cell_type": "code",
   "execution_count": null,
   "metadata": {},
   "outputs": [],
   "source": []
  }
 ],
 "metadata": {
  "kernelspec": {
   "display_name": "Python 3",
   "language": "python",
   "name": "python3"
  },
  "language_info": {
   "codemirror_mode": {
    "name": "ipython",
    "version": 3
   },
   "file_extension": ".py",
   "mimetype": "text/x-python",
   "name": "python",
   "nbconvert_exporter": "python",
   "pygments_lexer": "ipython3",
   "version": "3.11.4"
  }
 },
 "nbformat": 4,
 "nbformat_minor": 2
}
