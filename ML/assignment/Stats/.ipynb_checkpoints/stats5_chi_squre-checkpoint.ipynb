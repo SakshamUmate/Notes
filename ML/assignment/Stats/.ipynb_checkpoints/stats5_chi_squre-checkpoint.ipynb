{
 "cells": [
  {
   "cell_type": "markdown",
   "metadata": {},
   "source": [
    "### Q1. Calculate the 95% confidence interval for a sample of data with a mean of 50 and a standard deviation of 5 using Python. Interpret the results."
   ]
  },
  {
   "cell_type": "markdown",
   "metadata": {},
   "source": [
    "To calculate the confidence interval (CI) for a sample mean, you can use the following formula:\n",
    "\n",
    "$$\n",
    "CI = \\left( \\bar{x} - Z \\frac{s}{\\sqrt{n}}, \\bar{x} + Z \\frac{s}{\\sqrt{n}} \\right)\n",
    "$$\n",
    "\n",
    "where:\n",
    "- $\\bar{x}$ is the sample mean\n",
    "- $Z$ is the Z-value corresponding to the desired confidence level (for 95% confidence, $Z \\approx 1.96$)\n",
    "- $s$ is the sample standard deviation\n",
    "- $n$ is the sample size\n",
    "\n",
    "This formula provides the lower and upper bounds of the confidence interval, within which we can be confident that the true population mean lies with the specified confidence level.\n"
   ]
  },
  {
   "cell_type": "code",
   "execution_count": 17,
   "metadata": {},
   "outputs": [
    {
     "data": {
      "text/plain": [
       "(48.210805856282846, 51.789194143717154)"
      ]
     },
     "execution_count": 17,
     "metadata": {},
     "output_type": "execute_result"
    }
   ],
   "source": [
    "import scipy.stats as stats\n",
    "\n",
    "# Given data\n",
    "mean = 50\n",
    "std_dev = 5\n",
    "confidence_level = 0.95\n",
    "\n",
    "# Z-value for 95% confidence\n",
    "z_value = stats.norm.ppf(1 - (1 - confidence_level) / 2)\n",
    "\n",
    "# Assuming a large sample size\n",
    "sample_size = 30  # Example sample size\n",
    "\n",
    "# Calculate the margin of error\n",
    "margin_of_error = z_value * (std_dev / (sample_size ** 0.5))\n",
    "\n",
    "# Calculate the confidence interval\n",
    "confidence_interval = (mean - margin_of_error, mean + margin_of_error)\n",
    "confidence_interval\n"
   ]
  },
  {
   "cell_type": "markdown",
   "metadata": {},
   "source": [
    "The 95% confidence interval for the sample mean is approximately (48.21, 51.79).\n",
    "\n",
    "**Interpretation:**\n",
    "This means that we can be 95% confident that the true population mean lies within the interval 48.21 to 51.79. The margin of error is approximately 1.79 on either side of the sample mean of 50.\n",
    "``` &#8203;:citation[oaicite:0]{index=0}&#8203;\n"
   ]
  },
  {
   "cell_type": "markdown",
   "metadata": {},
   "source": [
    "### Q2. Conduct a chi-square goodness of fit test to determine if the distribution of colors of M&Ms in a bag matches the expected distribution of 20% blue, 20% orange, 20% green, 10% yellow, 10% red, and 20% brown. Use Python to perform the test with a significance level of 0.05."
   ]
  },
  {
   "cell_type": "markdown",
   "metadata": {},
   "source": [
    "# Chi-Square Goodness of Fit Test for M&Ms Colors\n",
    "\n",
    "To determine if the distribution of colors of M&Ms in a bag matches the expected distribution of 20% blue, 20% orange, 20% green, 10% yellow, 10% red, and 20% brown, we perform a chi-square goodness of fit test with a significance level of 0.05.\n",
    "\n",
    "## Steps\n",
    "\n",
    "1. **Define the observed frequencies**:  the example data .\n",
    "2. **Define the expected frequencies** based on the expected percentages.\n",
    "3. **Perform the chi-square goodness of fit test** using Python.\n",
    "4. **Compare the p-value** with the significance level (0.05) to determine if we reject the null hypothesis.\n",
    "\n",
    "## Python Code\n",
    "\n",
    "\n"
   ]
  },
  {
   "cell_type": "code",
   "execution_count": 32,
   "metadata": {},
   "outputs": [
    {
     "name": "stdout",
     "output_type": "stream",
     "text": [
      "Fail to reject the null hypothesis \n",
      " means accept the null hypothesis\n"
     ]
    }
   ],
   "source": [
    "\n",
    "import scipy.stats as stats\n",
    "\n",
    "# Observed frequencies (example data)\n",
    "observed_frequencies = [30, 25, 20, 15, 10, 25]\n",
    "\n",
    "# Total number of M&Ms observed\n",
    "total_observed = sum(observed_frequencies)\n",
    "\n",
    "# Expected percentages\n",
    "expected_percentages = [0.20, 0.20, 0.20, 0.10, 0.10, 0.20]\n",
    "\n",
    "# Expected frequencies\n",
    "expected_frequencies = [p * total_observed for p in expected_percentages]\n",
    "\n",
    "chi_stats,p_value=st.chisquare(observed_frequencies, expected_frequencies)\n",
    "\n",
    "ddf= len(observed_frequencies) - 1\n",
    "confidence_level = 0.95\n",
    "\n",
    "# Critical value for 95% confidence\n",
    "c_value = st.chi2.ppf(confidence_level,ddf)\n",
    "\n",
    "if c_value>chi_stats:\n",
    "    print('Fail to reject the null hypothesis \\n means accept the null hypothesis')\n",
    "else:\n",
    "    print('Reject the null hypothesis')"
   ]
  },
  {
   "cell_type": "markdown",
   "metadata": {},
   "source": [
    "The 95% confidence interval for the sample mean is approximately (48.21, 51.79).\n",
    "\n",
    "**Interpretation:**\n",
    "This means that we can be 95% confident that the true population mean lies within the interval 48.21 to 51.79. The margin of error is approximately 1.79 on either side of the sample mean of 50.\n",
    "\n"
   ]
  },
  {
   "cell_type": "markdown",
   "metadata": {},
   "source": [
    "### Q3. Use Python to calculate the chi-square statistic and p-value for a contingency table with the following data:"
   ]
  },
  {
   "cell_type": "markdown",
   "metadata": {},
   "source": [
    "### Calculate the Chi-Square Statistic and p-value:\n",
    "\n",
    "- We'll use the chi2_contingency function from the scipy.stats library to calculate the chi-square statistic, p-value, degrees of freedom, and expected frequencies.\n",
    "\n",
    "### Interpret the Results:\n",
    "\n",
    "- The p-value will tell us whether to reject the null hypothesis. The null hypothesis is that there is no association between the groups and the outcomes.\n",
    "- A common significance level is 0.05. If the p-value is less than 0.05, we reject the null hypothesis and conclude that there is a significant association."
   ]
  },
  {
   "cell_type": "code",
   "execution_count": 2,
   "metadata": {},
   "outputs": [],
   "source": [
    "import scipy.stats as st\n",
    "import numpy as np"
   ]
  },
  {
   "cell_type": "code",
   "execution_count": 4,
   "metadata": {},
   "outputs": [],
   "source": [
    "data = np.array([[20, 15],\n",
    "                 [10, 25],\n",
    "                 [15, 20]])\n",
    "stats,p_val,dof,ex_fz=st.chi2_contingency(data)"
   ]
  },
  {
   "cell_type": "code",
   "execution_count": 5,
   "metadata": {},
   "outputs": [
    {
     "data": {
      "text/plain": [
       "(5.833333333333334,\n",
       " 0.05411376622282158,\n",
       " 2,\n",
       " array([[15., 20.],\n",
       "        [15., 20.],\n",
       "        [15., 20.]]))"
      ]
     },
     "execution_count": 5,
     "metadata": {},
     "output_type": "execute_result"
    }
   ],
   "source": [
    " stats,p_val,dof,ex_fz"
   ]
  },
  {
   "cell_type": "markdown",
   "metadata": {},
   "source": [
    "### Interpretation\n",
    "- Chi-Square Statistic ($\\chi^2$): This value measures how much the observed counts deviate from the expected counts.\n",
    "- p-value: This tells us the probability of observing the data, or something more extreme, if the null hypothesis is true.\n",
    "- Degrees of Freedom (dof): This is calculated as $(\\text{number of rows} - 1) \\times (\\text{number of columns} - 1)$.\n",
    "- Expected Frequencies: These are the frequencies we would expect if the null hypothesis were true.\n",
    "\n",
    "### If the p-value is less than 0.05, we reject the null hypothesis and conclude that there is a significant association between the groups and the outcomes."
   ]
  },
  {
   "cell_type": "code",
   "execution_count": 7,
   "metadata": {},
   "outputs": [
    {
     "name": "stdout",
     "output_type": "stream",
     "text": [
      "We failed to reject null hypothesis. Means thier is  significant association between the groups and the outcomes. \n"
     ]
    }
   ],
   "source": [
    "sig_level=0.05\n",
    "if p_val< sig_level:\n",
    "    print(\"We Reject null hypothesis , means thier is no significant association between the groups and the outcomes.\")\n",
    "else:\n",
    "    print(\"We failed to reject null hypothesis. Means thier is  significant association between the groups and the outcomes. \")"
   ]
  },
  {
   "cell_type": "markdown",
   "metadata": {},
   "source": [
    "### Q4. A study of the prevalence of smoking in a population of 500 individuals found that 60 individuals smoke. Use Python to calculate the 95% confidence interval for the true proportion of individuals in th population who smoke."
   ]
  },
  {
   "cell_type": "markdown",
   "metadata": {},
   "source": [
    "### 95% Confidence Interval for the True Proportion of Smokers\n",
    "\n",
    "A study of the prevalence of smoking in a population of 500 individuals found that 60 individuals smoked. We will use Python to calculate the 95% confidence interval for the true proportion of individuals in the population who smoke.\n",
    "\n",
    "### Step-by-Step Calculation\n",
    "\n",
    "1. **Calculate the sample proportion $\\hat{p}$**:\n",
    "   \\[ $\\hat{p} = \\frac{x}{n}$ \\]\n",
    "   where \\(x\\) is the number of individuals who smoke (60) and \\(n\\) is the total number of individuals (500).\n",
    "\n",
    "2. **Calculate the standard error (SE)**:\n",
    "   \\[$ \\text{SE} = \\sqrt{\\frac{\\hat{p}(1 - \\hat{p})}{n}}$ \\]\n",
    "\n",
    "3. **Calculate the margin of error (ME)**:\n",
    "   \\[$ \\text{ME} = z \\cdot \\text{SE} $\\]\n",
    "   where \\(z\\) is the z-score corresponding to the 95% confidence level (1.96).\n",
    "\n",
    "4. **Calculate the confidence interval**:\n",
    "   \\[$ \\text{CI} = \\hat{p} \\pm \\text{ME} $\\]\n",
    "\n",
    "### Python Code"
   ]
  },
  {
   "cell_type": "code",
   "execution_count": 5,
   "metadata": {},
   "outputs": [
    {
     "data": {
      "text/plain": [
       "(0.09151586546865079, 0.1484841345313492)"
      ]
     },
     "execution_count": 5,
     "metadata": {},
     "output_type": "execute_result"
    }
   ],
   "source": [
    "import math\n",
    "\n",
    "# Given data\n",
    "x = 60\n",
    "n = 500\n",
    "z = 1.96  # z-score for 95% confidence\n",
    "\n",
    "# Calculate sample proportion\n",
    "p_hat = x / n\n",
    "\n",
    "# Calculate standard error\n",
    "SE = math.sqrt((p_hat * (1 - p_hat)) / n)\n",
    "\n",
    "# Calculate margin of error\n",
    "ME = z * SE\n",
    "\n",
    "# Calculate confidence interval\n",
    "CI_lower = p_hat - ME\n",
    "CI_upper = p_hat + ME\n",
    "\n",
    "CI_lower, CI_upper"
   ]
  },
  {
   "cell_type": "markdown",
   "metadata": {},
   "source": [
    "### Q5. Calculate the 90% confidence interval for a sample of data with a mean of 75 and a standard deviation of 12 using Python. Interpret the results."
   ]
  },
  {
   "cell_type": "code",
   "execution_count": 15,
   "metadata": {},
   "outputs": [
    {
     "data": {
      "text/plain": [
       "(71.39630625889797, 78.60369374110203)"
      ]
     },
     "execution_count": 15,
     "metadata": {},
     "output_type": "execute_result"
    }
   ],
   "source": [
    "sig_level = 0.10\n",
    "S_mean=75\n",
    "std=12\n",
    "\n",
    "n=30\n",
    "\n",
    "z_val=st.norm.ppf(1-sig_level/2)\n",
    "std_error= std/(n**0.5)\n",
    "\n",
    "margin_error= z_val*std_error\n",
    "\n",
    "CI_lower= S_mean-margin_error\n",
    "CI_upper= S_mean+margin_error\n",
    "\n",
    "CI_lower,CI_upper\n"
   ]
  },
  {
   "cell_type": "markdown",
   "metadata": {},
   "source": [
    "### Q6. Use Python to plot the chi-square distribution with 10 degrees of freedom. Label the axes and shade the area corresponding to a chi-square statistic of 15."
   ]
  },
  {
   "cell_type": "markdown",
   "metadata": {},
   "source": [
    "### Plotting the Chi-Square Distribution with 10 Degrees of Freedom\n",
    "\n",
    "We will use Python to plot the chi-square distribution with 10 degrees of freedom and shade the area corresponding to a chi-square statistic of 15.\n",
    "\n",
    "### Python Code\n",
    "\n"
   ]
  },
  {
   "cell_type": "code",
   "execution_count": 17,
   "metadata": {},
   "outputs": [
    {
     "data": {
      "image/png": "[encoded data removed]",
      "text/plain": [
       "<Figure size 1000x600 with 1 Axes>"
      ]
     },
     "metadata": {},
     "output_type": "display_data"
    }
   ],
   "source": [
    "\n",
    "import numpy as np\n",
    "import scipy.stats as stats\n",
    "import matplotlib.pyplot as plt\n",
    "\n",
    "# Degrees of freedom\n",
    "df = 10\n",
    "\n",
    "# Create a range of x values\n",
    "x = np.linspace(0, 30, 1000)\n",
    "\n",
    "# Calculate the chi-square distribution values\n",
    "chi2_values = stats.chi2.pdf(x, df)\n",
    "\n",
    "# Plot the chi-square distribution\n",
    "plt.figure(figsize=(10, 6))\n",
    "plt.plot(x, chi2_values, label='Chi-Square Distribution (df=10)')\n",
    "plt.fill_between(x, chi2_values, where=(x <= 15), color='skyblue', alpha=0.5, label='Area for chi-square statistic = 15')\n",
    "\n",
    "# Add labels and title\n",
    "plt.title('Chi-Square Distribution with 10 Degrees of Freedom')\n",
    "plt.xlabel('Chi-Square Value')\n",
    "plt.ylabel('Probability Density')\n",
    "plt.legend()\n",
    "\n",
    "# Show plot\n",
    "plt.show()\n"
   ]
  },
  {
   "cell_type": "markdown",
   "metadata": {},
   "source": [
    "### Q7. A random sample of 1000 people was asked if they preferred Coke or Pepsi. Of the sample, 520 preferred Coke. Calculate a 99% confidence interval for the true proportion of people in the population who prefer Coke."
   ]
  },
  {
   "cell_type": "code",
   "execution_count": 14,
   "metadata": {},
   "outputs": [
    {
     "data": {
      "text/plain": [
       "(518.8138791814787, 521.1861208185213)"
      ]
     },
     "execution_count": 14,
     "metadata": {},
     "output_type": "execute_result"
    }
   ],
   "source": [
    "sig_level= 0.10\n",
    "Mean=520\n",
    "n=1000\n",
    "std_error = Mean**0.5/n**0.5\n",
    "z_val=st.norm.ppf(1-(sig_level/2))\n",
    "\n",
    "Margine_error= std_error*z_val\n",
    "\n",
    "Confidence_lower_interval=Mean-Margine_error\n",
    "Confidence_higher_interval=Mean+Margine_error\n",
    "\n",
    "Cofidence_interval=(Confidence_lower_interval,Confidence_higher_interval)\n",
    "\n",
    "Cofidence_interval"
   ]
  },
  {
   "cell_type": "code",
   "execution_count": 15,
   "metadata": {},
   "outputs": [
    {
     "data": {
      "text/plain": [
       "(0.47930246089012263, 0.5606975391098774)"
      ]
     },
     "execution_count": 15,
     "metadata": {},
     "output_type": "execute_result"
    }
   ],
   "source": [
    "import math\n",
    "\n",
    "# Given data\n",
    "x = 520\n",
    "n = 1000\n",
    "z = 2.576  # z-score for 99% confidence\n",
    "\n",
    "# Calculate sample proportion\n",
    "p_hat = x / n\n",
    "\n",
    "# Calculate standard error\n",
    "SE = math.sqrt((p_hat * (1 - p_hat)) / n)\n",
    "\n",
    "# Calculate margin of error\n",
    "ME = z * SE\n",
    "\n",
    "# Calculate confidence interval\n",
    "CI_lower = p_hat - ME\n",
    "CI_upper = p_hat + ME\n",
    "\n",
    "CI_lower, CI_upper"
   ]
  },
  {
   "cell_type": "code",
   "execution_count": 16,
   "metadata": {},
   "outputs": [
    {
     "data": {
      "text/plain": [
       "1.6448536269514722"
      ]
     },
     "execution_count": 16,
     "metadata": {},
     "output_type": "execute_result"
    }
   ],
   "source": [
    "z_val"
   ]
  },
  {
   "cell_type": "code",
   "execution_count": null,
   "metadata": {},
   "outputs": [],
   "source": []
  }
 ],
 "metadata": {
  "kernelspec": {
   "display_name": "Python 3 (ipykernel)",
   "language": "python",
   "name": "python3"
  },
  "language_info": {
   "codemirror_mode": {
    "name": "ipython",
    "version": 3
   },
   "file_extension": ".py",
   "mimetype": "text/x-python",
   "name": "python",
   "nbconvert_exporter": "python",
   "pygments_lexer": "ipython3",
   "version": "3.11.4"
  }
 },
 "nbformat": 4,
 "nbformat_minor": 4
}
