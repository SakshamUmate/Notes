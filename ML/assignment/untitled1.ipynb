{
 "cells": [
  {
   "cell_type": "markdown",
   "id": "fea7e215-70ac-4308-a889-aa19784b0508",
   "metadata": {},
   "source": [
    "Q1. Explain why we have to use the Exception class while creating a Custom Exception.\n",
    "Note: Here Exception class refers to the base class for all the exceptions."
   ]
  },
  {
   "cell_type": "markdown",
   "id": "7d2853a8-f139-41e2-bd1b-cca5cb8e1e0f",
   "metadata": {},
   "source": [
    "When creating custom exceptions in a programming language like Python, it is recommended to derive your custom exception class from the built-in Exception class. The Exception class serves as the base class for all exceptions in Python, forming the hierarchy for handling errors and exceptional situations.\n",
    "\n",
    "Here are a few reasons why using the Exception class is beneficial when creating custom exceptions:\n",
    "\n",
    "Consistency with the Exception Hierarchy:\n",
    "\n",
    "By inheriting from Exception, your custom exception becomes part of the existing exception hierarchy. This hierarchy allows for a consistent and organized approach to handling different types of exceptions.\n",
    "The hierarchy includes various specialized exception classes (e.g., ValueError, TypeError, FileNotFoundError) that can be used for specific error scenarios. By using Exception as the base, your custom exception fits into this structure.\n",
    "Interoperability with Exception Handling Mechanisms:\n",
    "\n",
    "Exception handling mechanisms in programming languages often rely on the exception hierarchy to catch and handle specific types of exceptions. If your custom exception is derived from Exception, it can be caught along with other exceptions using a common except block.\n",
    "Clarity and Readability:\n",
    "\n",
    "Deriving from Exception makes the purpose of your custom exception clear. It signals to other developers that your class represents an exceptional condition and is intended to be used in exception-handling scenarios.\n",
    "Avoiding Ambiguity:\n",
    "\n",
    "If you create a custom exception without inheriting from Exception, it might be unclear to other developers and tools whether your class is intended for use in exception handling. Inheriting from Exception removes any ambiguity and aligns your custom exception with established conventions."
   ]
  },
  {
   "cell_type": "markdown",
   "id": "16f94a8e-ce77-43c8-afbb-6602d9474b05",
   "metadata": {},
   "source": [
    "Q2. Write a python program to print Python Exception Hierarchy."
   ]
  },
  {
   "cell_type": "code",
   "execution_count": 1,
   "id": "7f9bfb59-df24-488e-bb61-1e393bc7e91f",
   "metadata": {},
   "outputs": [
    {
     "name": "stdout",
     "output_type": "stream",
     "text": [
      "Exception\n",
      "    BaseException\n",
      "        object\n"
     ]
    }
   ],
   "source": [
    "def print_exception_hierarchy(exception_class, indent=0):\n",
    "    print(\" \" * indent + f\"{exception_class.__name__}\")\n",
    "    \n",
    "    # Recursive call for each base class\n",
    "    for base_class in exception_class.__bases__:\n",
    "        print_exception_hierarchy(base_class, indent + 4)\n",
    "\n",
    "# Start with the base Exception class\n",
    "print_exception_hierarchy(Exception)"
   ]
  },
  {
   "cell_type": "markdown",
   "id": "ac08398d-3e93-4eab-b4c6-4fa7eb3b78f6",
   "metadata": {},
   "source": [
    "In Python, the exception hierarchy is organized in a way that allows for different types of exceptions to be caught and handled more specifically. You can print the Python Exception Hierarchy using the following Python program:\n",
    "This program defines a recursive function print_exception_hierarchy that takes an exception class and prints its name along with its base classes, recursively. The base case is when the base class has no further base classes."
   ]
  },
  {
   "cell_type": "markdown",
   "id": "4f574a50-cace-4d75-8ffa-f6ed371a9b65",
   "metadata": {},
   "source": [
    "Q3. What errors are defined in the ArithmeticError class? Explain any two with an example."
   ]
  },
  {
   "cell_type": "markdown",
   "id": "7bf63e44-3f6a-4af2-9dc8-eaebdab6dabe",
   "metadata": {},
   "source": [
    "The ArithmeticError class is a base class for all errors that occur during arithmetic operations in Python. It serves as a parent class for various specific arithmetic-related exception classes. Two common errors defined in the ArithmeticError hierarchy are ZeroDivisionError and OverflowError."
   ]
  },
  {
   "cell_type": "code",
   "execution_count": 2,
   "id": "f07eb7fd-a568-4175-b37b-5b4c7df83d1f",
   "metadata": {},
   "outputs": [
    {
     "name": "stdout",
     "output_type": "stream",
     "text": [
      "division by zero\n"
     ]
    }
   ],
   "source": [
    "try :\n",
    "    9/0\n",
    "except ZeroDivisionError as e:\n",
    "    print(e)"
   ]
  },
  {
   "cell_type": "code",
   "execution_count": 10,
   "id": "ff7c5a8d-3f28-4293-9e1e-3d97af675708",
   "metadata": {},
   "outputs": [],
   "source": [
    "try:\n",
    "    result = 2**1000000000\n",
    "except OverflowError as e:\n",
    "    print(f\"Error: {e}\")"
   ]
  },
  {
   "cell_type": "code",
   "execution_count": 1,
   "id": "b8e06506-c7be-4d6d-b8a7-99709b0bdad2",
   "metadata": {},
   "outputs": [],
   "source": [
    "import math\n",
    "try:\n",
    "    result = math.sqrt(-1)\n",
    "except FloatingPointError as e:\n",
    "    print(f\"Error: {e}\")"
   ]
  },
  {
   "cell_type": "markdown",
   "id": "324c219c-32b0-47da-aaa7-08575bf7aead",
   "metadata": {},
   "source": [
    "4. rite a python program to create two threads. Thread one must print the list of squares and thread\r\n",
    "two must print the list of cubes"
   ]
  },
  {
   "cell_type": "code",
   "execution_count": null,
   "id": "906d0aa4-1e55-4aed-9327-a6c6421601c2",
   "metadata": {},
   "outputs": [],
   "source": [
    "import threading \n",
    "import time\n",
    "def squre(l):\n",
    "    print([i**2 for i in range(1,11)])\n",
    "    time.sleep(1)\n",
    "thread1=[threading.basicC]\n",
    "thread2=[]"
   ]
  },
  {
   "cell_type": "code",
   "execution_count": null,
   "id": "b2cad836-7331-4de4-bfcd-a460b540e70c",
   "metadata": {},
   "outputs": [],
   "source": []
  },
  {
   "cell_type": "code",
   "execution_count": null,
   "id": "05858bb4-29ce-4c3f-ad82-e2f440ce02ab",
   "metadata": {},
   "outputs": [],
   "source": []
  },
  {
   "cell_type": "code",
   "execution_count": null,
   "id": "df397264-abd8-41e4-9c7a-ab26e920e1a8",
   "metadata": {},
   "outputs": [],
   "source": []
  },
  {
   "cell_type": "code",
   "execution_count": null,
   "id": "45dae003-2b70-451c-9891-5096e6b3c798",
   "metadata": {},
   "outputs": [],
   "source": []
  }
 ],
 "metadata": {
  "kernelspec": {
   "display_name": "Python 3 (ipykernel)",
   "language": "python",
   "name": "python3"
  },
  "language_info": {
   "codemirror_mode": {
    "name": "ipython",
    "version": 3
   },
   "file_extension": ".py",
   "mimetype": "text/x-python",
   "name": "python",
   "nbconvert_exporter": "python",
   "pygments_lexer": "ipython3",
   "version": "3.11.4"
  }
 },
 "nbformat": 4,
 "nbformat_minor": 5
}
