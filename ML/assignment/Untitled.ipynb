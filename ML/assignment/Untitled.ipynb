{
 "cells": [
  {
   "cell_type": "code",
   "execution_count": 3,
   "id": "6953bb78-a7ba-47d5-8d68-d943d5cb826f",
   "metadata": {},
   "outputs": [],
   "source": [
    "def t_f(n):\n",
    "    a,b=0,1\n",
    "    for i in range(n):\n",
    "        yield a\n",
    "        a,b=b,a+b"
   ]
  },
  {
   "cell_type": "code",
   "execution_count": 7,
   "id": "16efc945-a710-4477-9136-80a4ac7aaeaf",
   "metadata": {},
   "outputs": [
    {
     "name": "stdout",
     "output_type": "stream",
     "text": [
      "0\n"
     ]
    }
   ],
   "source": [
    "print(next(t_f(10)))"
   ]
  },
  {
   "cell_type": "code",
   "execution_count": 24,
   "id": "eb62cd9f-e5a1-4035-8e88-201ed1ca7a1d",
   "metadata": {},
   "outputs": [],
   "source": [
    "c_to_f =lambda c:(9/5)*c+32"
   ]
  },
  {
   "cell_type": "code",
   "execution_count": 27,
   "id": "f1800510-ab8b-4c14-a646-e8ede0e28f28",
   "metadata": {},
   "outputs": [
    {
     "data": {
      "text/plain": [
       "113.0"
      ]
     },
     "execution_count": 27,
     "metadata": {},
     "output_type": "execute_result"
    }
   ],
   "source": [
    "c_to_f(45)"
   ]
  },
  {
   "cell_type": "code",
   "execution_count": 33,
   "id": "88517964-07d9-41f4-8862-d0442646249f",
   "metadata": {},
   "outputs": [],
   "source": [
    "f_to_c=lambda f:(f-32)/1.8"
   ]
  },
  {
   "cell_type": "code",
   "execution_count": 34,
   "id": "e035c582-f5cf-4d2b-88da-2a27787202b1",
   "metadata": {},
   "outputs": [
    {
     "data": {
      "text/plain": [
       "45.0"
      ]
     },
     "execution_count": 34,
     "metadata": {},
     "output_type": "execute_result"
    }
   ],
   "source": [
    "f_to_c(113.0)"
   ]
  },
  {
   "cell_type": "code",
   "execution_count": null,
   "id": "f34fa953-34c6-4b6d-8374-cae9720f656d",
   "metadata": {},
   "outputs": [],
   "source": []
  },
  {
   "cell_type": "code",
   "execution_count": null,
   "id": "fa65ff86-60b0-4075-9db4-9c0152305856",
   "metadata": {},
   "outputs": [],
   "source": []
  }
 ],
 "metadata": {
  "kernelspec": {
   "display_name": "Python 3 (ipykernel)",
   "language": "python",
   "name": "python3"
  },
  "language_info": {
   "codemirror_mode": {
    "name": "ipython",
    "version": 3
   },
   "file_extension": ".py",
   "mimetype": "text/x-python",
   "name": "python",
   "nbconvert_exporter": "python",
   "pygments_lexer": "ipython3",
   "version": "3.11.4"
  }
 },
 "nbformat": 4,
 "nbformat_minor": 5
}
