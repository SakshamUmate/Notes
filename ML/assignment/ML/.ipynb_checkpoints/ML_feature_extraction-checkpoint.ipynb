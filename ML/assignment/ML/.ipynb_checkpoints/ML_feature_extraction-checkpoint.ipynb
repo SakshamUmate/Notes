{
 "cells": [
  {
   "cell_type": "markdown",
   "metadata": {},
   "source": [
    "### Q1. What is Min-Max scaling, and how is it used in data preprocessing? Provide an example to illustrate its application."
   ]
  },
  {
   "cell_type": "markdown",
   "metadata": {},
   "source": [
    "## Min-Max Scaling\n",
    "\n",
    "Min-Max scaling, also known as Min-Max normalization, is a data preprocessing technique used to rescale the values of features to a specific range, typically \\([0, 1]\\). This is particularly useful in preparing data for machine learning algorithms that are sensitive to the scale of input data, such as those based on distance metrics (e.g., k-nearest neighbors, support vector machines).\n",
    "\n",
    "### How It Works\n",
    "\n",
    "The Min-Max scaling formula is as follows:\n",
    "\n",
    "$  x' = \\frac{x - \\min(x)}{\\max(x) - \\min(x)}  $\n",
    "\n",
    "where:\n",
    "- \\( x \\) is the original value.\n",
    "- $ \\min(x) $ is the minimum value in the feature.\n",
    "- $ \\max(x) $ is the maximum value in the feature.\n",
    "- $ x' $ is the scaled value.\n",
    "\n",
    "This formula scales each feature to the range \\([0, 1]\\). However, the range can be adjusted to any desired range \\([a, b]\\) using the following formula:\n",
    "\n",
    "$  x' = a + \\frac{(x - \\min(x)) \\times (b - a)}{\\max(x) - \\min(x)}  $\n",
    "\n",
    "### Advantages\n",
    "\n",
    "- **Uniform Scale**: Rescales features to a uniform range, ensuring that all features contribute equally to the model.\n",
    "- **Improved Convergence**: Helps algorithms converge faster by providing a consistent scale.\n",
    "- **Compatibility**: Suitable for algorithms that require input data within a certain range.\n",
    "\n",
    "### Disadvantages\n",
    "\n",
    "- **Sensitive to Outliers**: Since Min-Max scaling depends on the minimum and maximum values, it can be affected by outliers.\n",
    "\n",
    "### Example\n",
    "\n",
    "Let's illustrate Min-Max scaling with an example in Python using `sklearn.preprocessing.MinMaxScaler`.\n",
    "\n",
    "```python\n",
    "import numpy as np\n",
    "import pandas as pd\n",
    "from sklearn.preprocessing import MinMaxScaler\n",
    "\n",
    "# Sample data\n",
    "data = {\n",
    "    'feature1': [10, 20, 30, 40, 50],\n",
    "    'feature2': [100, 200, 300, 400, 500]\n",
    "}\n",
    "\n",
    "df = pd.DataFrame(data)\n",
    "\n",
    "# Initialize MinMaxScaler\n",
    "scaler = MinMaxScaler()\n",
    "\n",
    "# Fit and transform the data\n",
    "scaled_data = scaler.fit_transform(df)\n",
    "\n",
    "# Create a DataFrame for the scaled data\n",
    "scaled_df = pd.DataFrame(scaled_data, columns=df.columns)\n",
    "\n",
    "print(\"Original Data:\\n\", df)\n",
    "print(\"\\nScaled Data:\\n\", scaled_df)\n"
   ]
  },
  {
   "cell_type": "code",
   "execution_count": 5,
   "metadata": {},
   "outputs": [],
   "source": [
    "import seaborn as sns\n",
    "import pandas as pd \n",
    "from sklearn.preprocessing import MinMaxScaler\n",
    "\n",
    "df=sns.load_dataset(\"tips\")\n",
    "\n",
    "scaler= MinMaxScaler()\n",
    "\n",
    "df1=pd.DataFrame(scaler.fit_transform(df[['total_bill','tip']]))\n",
    "\n"
   ]
  },
  {
   "cell_type": "code",
   "execution_count": null,
   "metadata": {},
   "outputs": [],
   "source": []
  }
 ],
 "metadata": {
  "kernelspec": {
   "display_name": "Python 3",
   "language": "python",
   "name": "python3"
  },
  "language_info": {
   "codemirror_mode": {
    "name": "ipython",
    "version": 3
   },
   "file_extension": ".py",
   "mimetype": "text/x-python",
   "name": "python",
   "nbconvert_exporter": "python",
   "pygments_lexer": "ipython3",
   "version": "3.11.4"
  }
 },
 "nbformat": 4,
 "nbformat_minor": 2
}
