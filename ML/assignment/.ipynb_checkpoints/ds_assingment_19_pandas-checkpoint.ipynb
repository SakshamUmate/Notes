{
 "cells": [
  {
   "cell_type": "code",
   "execution_count": 2,
   "id": "76b343ca-184b-447c-8544-6de87c07cc11",
   "metadata": {},
   "outputs": [],
   "source": [
    "import pandas as pd\n",
    "course_name = ['Data Science', 'Machine Learning', 'Big Data', 'Data Engineer']\n",
    "duration = [2,3,6,4]\n",
    "df = pd.DataFrame(data = {'course_name' : course_name, 'duration' : duration})"
   ]
  },
  {
   "cell_type": "code",
   "execution_count": 3,
   "id": "c8b1f3e9-4570-4d06-902a-447cfbc23081",
   "metadata": {},
   "outputs": [
    {
     "data": {
      "text/html": [
       "<div>\n",
       "<style scoped>\n",
       "    .dataframe tbody tr th:only-of-type {\n",
       "        vertical-align: middle;\n",
       "    }\n",
       "\n",
       "    .dataframe tbody tr th {\n",
       "        vertical-align: top;\n",
       "    }\n",
       "\n",
       "    .dataframe thead th {\n",
       "        text-align: right;\n",
       "    }\n",
       "</style>\n",
       "<table border=\"1\" class=\"dataframe\">\n",
       "  <thead>\n",
       "    <tr style=\"text-align: right;\">\n",
       "      <th></th>\n",
       "      <th>course_name</th>\n",
       "      <th>duration</th>\n",
       "    </tr>\n",
       "  </thead>\n",
       "  <tbody>\n",
       "    <tr>\n",
       "      <th>0</th>\n",
       "      <td>Data Science</td>\n",
       "      <td>2</td>\n",
       "    </tr>\n",
       "    <tr>\n",
       "      <th>1</th>\n",
       "      <td>Machine Learning</td>\n",
       "      <td>3</td>\n",
       "    </tr>\n",
       "    <tr>\n",
       "      <th>2</th>\n",
       "      <td>Big Data</td>\n",
       "      <td>6</td>\n",
       "    </tr>\n",
       "    <tr>\n",
       "      <th>3</th>\n",
       "      <td>Data Engineer</td>\n",
       "      <td>4</td>\n",
       "    </tr>\n",
       "  </tbody>\n",
       "</table>\n",
       "</div>"
      ],
      "text/plain": [
       "        course_name  duration\n",
       "0      Data Science         2\n",
       "1  Machine Learning         3\n",
       "2          Big Data         6\n",
       "3     Data Engineer         4"
      ]
     },
     "execution_count": 3,
     "metadata": {},
     "output_type": "execute_result"
    }
   ],
   "source": [
    "df"
   ]
  },
  {
   "cell_type": "markdown",
   "id": "09bcbdd3-cacf-44b2-ba58-e3efc07ef4ec",
   "metadata": {},
   "source": [
    "Q1. Write a code to print the data present in the second row of the dataframe."
   ]
  },
  {
   "cell_type": "code",
   "execution_count": 4,
   "id": "9061544f-77b2-4792-8675-b967441d54e4",
   "metadata": {},
   "outputs": [
    {
     "data": {
      "text/plain": [
       "0    2\n",
       "1    3\n",
       "2    6\n",
       "3    4\n",
       "Name: duration, dtype: int64"
      ]
     },
     "execution_count": 4,
     "metadata": {},
     "output_type": "execute_result"
    }
   ],
   "source": [
    "df['duration']"
   ]
  },
  {
   "cell_type": "markdown",
   "id": "550ea968-3efd-4932-bd64-1bc480d59d84",
   "metadata": {},
   "source": [
    "Q2. What is the difference between the functions loc and iloc in pandas.DataFrame?"
   ]
  },
  {
   "cell_type": "markdown",
   "id": "0fb44a31-6c8d-4d24-8e21-c69872162a1d",
   "metadata": {},
   "source": [
    "\r\n",
    "In pandas, loc and iloc are both used for indexing and selecting data from a DataFrame, but they differ in the way they specify and interpret the indices.\r\n",
    "\r\n",
    "loc (label-based indexing):\r\n",
    "\r\n",
    "It is primarily used for selection by label (row index and column names).\r\n",
    "You specify the row labels and column names to retrieve data.\r\n",
    "The syntax is df.loc[row_label, column_label].\r\n",
    "It includes the end index in the selection."
   ]
  },
  {
   "cell_type": "code",
   "execution_count": 7,
   "id": "9a86fb93-a79e-4c13-aa06-8d8ee0a90606",
   "metadata": {},
   "outputs": [
    {
     "data": {
      "text/html": [
       "<div>\n",
       "<style scoped>\n",
       "    .dataframe tbody tr th:only-of-type {\n",
       "        vertical-align: middle;\n",
       "    }\n",
       "\n",
       "    .dataframe tbody tr th {\n",
       "        vertical-align: top;\n",
       "    }\n",
       "\n",
       "    .dataframe thead th {\n",
       "        text-align: right;\n",
       "    }\n",
       "</style>\n",
       "<table border=\"1\" class=\"dataframe\">\n",
       "  <thead>\n",
       "    <tr style=\"text-align: right;\">\n",
       "      <th></th>\n",
       "      <th>course_name</th>\n",
       "    </tr>\n",
       "  </thead>\n",
       "  <tbody>\n",
       "    <tr>\n",
       "      <th>0</th>\n",
       "      <td>Data Science</td>\n",
       "    </tr>\n",
       "    <tr>\n",
       "      <th>1</th>\n",
       "      <td>Machine Learning</td>\n",
       "    </tr>\n",
       "    <tr>\n",
       "      <th>2</th>\n",
       "      <td>Big Data</td>\n",
       "    </tr>\n",
       "  </tbody>\n",
       "</table>\n",
       "</div>"
      ],
      "text/plain": [
       "        course_name\n",
       "0      Data Science\n",
       "1  Machine Learning\n",
       "2          Big Data"
      ]
     },
     "execution_count": 7,
     "metadata": {},
     "output_type": "execute_result"
    }
   ],
   "source": [
    "df.loc[0:2,['course_name']]"
   ]
  },
  {
   "cell_type": "code",
   "execution_count": 11,
   "id": "df11f0af-2d8c-4938-88a2-2bcc6764dcb1",
   "metadata": {},
   "outputs": [
    {
     "data": {
      "text/html": [
       "<div>\n",
       "<style scoped>\n",
       "    .dataframe tbody tr th:only-of-type {\n",
       "        vertical-align: middle;\n",
       "    }\n",
       "\n",
       "    .dataframe tbody tr th {\n",
       "        vertical-align: top;\n",
       "    }\n",
       "\n",
       "    .dataframe thead th {\n",
       "        text-align: right;\n",
       "    }\n",
       "</style>\n",
       "<table border=\"1\" class=\"dataframe\">\n",
       "  <thead>\n",
       "    <tr style=\"text-align: right;\">\n",
       "      <th></th>\n",
       "      <th>course_name</th>\n",
       "    </tr>\n",
       "  </thead>\n",
       "  <tbody>\n",
       "    <tr>\n",
       "      <th>0</th>\n",
       "      <td>Data Science</td>\n",
       "    </tr>\n",
       "    <tr>\n",
       "      <th>1</th>\n",
       "      <td>Machine Learning</td>\n",
       "    </tr>\n",
       "  </tbody>\n",
       "</table>\n",
       "</div>"
      ],
      "text/plain": [
       "        course_name\n",
       "0      Data Science\n",
       "1  Machine Learning"
      ]
     },
     "execution_count": 11,
     "metadata": {},
     "output_type": "execute_result"
    }
   ],
   "source": [
    "df.iloc[0:2,[0]]   #.iloc requires numeric indexers"
   ]
  },
  {
   "cell_type": "markdown",
   "id": "aa96660a-2adb-40fb-a38e-e52a6caff4de",
   "metadata": {},
   "source": [
    "Q3. Reindex the given dataframe using a variable, reindex = [3,0,1,2] and store it in the variable, new_df\r\n",
    "then find the output for both new_df.loc[2] and new_df.iloc[2].ices)"
   ]
  },
  {
   "cell_type": "markdown",
   "id": "310c95d4-8dd7-4260-a74b-b99d0071c368",
   "metadata": {},
   "source": [
    "the difference lies in whether you're using labels or integer positions to specify the rows and columns. If the DataFrame has integer index labels, using .loc and .iloc may produce the same output, but with non-integer index labels, they can lead to different results."
   ]
  },
  {
   "cell_type": "code",
   "execution_count": 35,
   "id": "6f5da53a-33eb-4fed-8373-d5d9efe54efd",
   "metadata": {},
   "outputs": [],
   "source": [
    "import pandas as pd\n",
    "import numpy as np\n",
    "columns = ['column_1', 'column_2', 'column_3', 'column_4', 'column_5', 'column_6']\n",
    "indices = [1,2,3,4,5,6]\n",
    "#Creating a dataframe:\n",
    "df1 = pd.DataFrame(np.random.rand(6,6), columns = columns, index = indices)\n",
    "\n",
    "reindex = [3,0,1,2]\n",
    "df1=df1.reindex(index=reindex)"
   ]
  },
  {
   "cell_type": "code",
   "execution_count": null,
   "id": "7f4a87d4-89fd-481d-84ca-cbbff94be306",
   "metadata": {},
   "outputs": [],
   "source": []
  },
  {
   "cell_type": "code",
   "execution_count": 30,
   "id": "68d77188-c445-4a1d-93d8-9b3ac4f510f8",
   "metadata": {},
   "outputs": [
    {
     "data": {
      "text/plain": [
       "column_2    0.886027\n",
       "column_3    0.816301\n",
       "Name: 2, dtype: float64"
      ]
     },
     "execution_count": 30,
     "metadata": {},
     "output_type": "execute_result"
    }
   ],
   "source": [
    "df1.loc[2,['column_2','column_3']]"
   ]
  },
  {
   "cell_type": "code",
   "execution_count": 31,
   "id": "7b754f9e-01f5-4f47-b44b-982c62b2787d",
   "metadata": {},
   "outputs": [
    {
     "data": {
      "text/plain": [
       "column_2    0.554025\n",
       "column_3    0.079826\n",
       "Name: 1, dtype: float64"
      ]
     },
     "execution_count": 31,
     "metadata": {},
     "output_type": "execute_result"
    }
   ],
   "source": [
    "df1.iloc[2,[1,2]]"
   ]
  },
  {
   "cell_type": "markdown",
   "id": "f4569667-15f2-4aa3-b75a-eeba21e5a163",
   "metadata": {},
   "source": [
    "Q4. Write a code to find the following statistical measurements for the above dataframe df1:\r\n",
    "(i) mean of each and every column present in the dataframe.\r\n",
    "(ii) standard deviation of column, ‘column_2’"
   ]
  },
  {
   "cell_type": "code",
   "execution_count": 32,
   "id": "493e24aa-7cb7-48cc-b4a0-df015d33687c",
   "metadata": {},
   "outputs": [
    {
     "data": {
      "text/plain": [
       "column_1    0.661016\n",
       "column_2    0.650802\n",
       "column_3    0.609170\n",
       "column_4    0.521795\n",
       "column_5    0.523019\n",
       "column_6    0.386736\n",
       "dtype: float64"
      ]
     },
     "execution_count": 32,
     "metadata": {},
     "output_type": "execute_result"
    }
   ],
   "source": [
    "df1.mean()"
   ]
  },
  {
   "cell_type": "code",
   "execution_count": 43,
   "id": "e5037bba-ddf3-475c-af7e-7d23b5feb3ac",
   "metadata": {},
   "outputs": [
    {
     "data": {
      "text/plain": [
       "0.2005408655107146"
      ]
     },
     "execution_count": 43,
     "metadata": {},
     "output_type": "execute_result"
    }
   ],
   "source": [
    "df1['column_2'].std()"
   ]
  },
  {
   "cell_type": "markdown",
   "id": "e51d0b44-a02f-4776-8731-24dd5d49f3e2",
   "metadata": {},
   "source": [
    "Q5. Replace the data present in the second row of column, ‘column_2’ by a string variable then find the\r\n",
    "mean of column, column_2.\r\n",
    "If you are getting errors in executing it then explain why.\r\n",
    "[Hint: To replace the data use df1.loc[] and equate this to string data of your choice.]"
   ]
  },
  {
   "cell_type": "code",
   "execution_count": 48,
   "id": "25bfc769-2149-4c27-b2dc-95b4f275593c",
   "metadata": {},
   "outputs": [
    {
     "name": "stderr",
     "output_type": "stream",
     "text": [
      "C:\\Users\\Lenovo\\AppData\\Local\\Temp\\ipykernel_9696\\3861536269.py:1: FutureWarning: Setting an item of incompatible dtype is deprecated and will raise in a future error of pandas. Value 'String' has dtype incompatible with float64, please explicitly cast to a compatible dtype first.\n",
      "  df1.loc[2,['column_2']]='String'\n"
     ]
    }
   ],
   "source": [
    "df1.loc[2,['column_2']]='String'"
   ]
  },
  {
   "cell_type": "code",
   "execution_count": 52,
   "id": "837c6924-912a-444b-9a74-657f687f2e37",
   "metadata": {},
   "outputs": [
    {
     "name": "stdout",
     "output_type": "stream",
     "text": [
      "unsupported operand type(s) for +: 'float' and 'str'\n"
     ]
    }
   ],
   "source": [
    "try :\n",
    "    df1.mean()\n",
    "except Exception as e:\n",
    "    print(e)\n"
   ]
  },
  {
   "cell_type": "markdown",
   "id": "7e3a8895-cbd0-4f24-8035-10e7d64a7214",
   "metadata": {},
   "source": [
    "In this example, the data in the second row of 'column_2' is replaced with the string 'Hello'. However, when you attempt to calculate the mean of 'column_2', it will result in an error because you cannot calculate the mean of a column containing string values.\n",
    "If you want to replace the data with a string and still calculate the mean, you need to convert the column to a numeric type after replacing the string. For instance, you could use pd.to_numeric"
   ]
  },
  {
   "cell_type": "code",
   "execution_count": 53,
   "id": "4cb695c8-5a54-46f7-b2bd-925abb926985",
   "metadata": {},
   "outputs": [],
   "source": [
    "df1['column_2'] = pd.to_numeric(df1['column_2'], errors='coerce')\n",
    "#In this case, errors='coerce' will replace non-numeric values with NaN, and then you can calculate the mean without errors."
   ]
  },
  {
   "cell_type": "code",
   "execution_count": 55,
   "id": "724a65f5-aef1-490f-bdf1-1bbb7f856352",
   "metadata": {},
   "outputs": [
    {
     "data": {
      "text/plain": [
       "column_1    0.658134\n",
       "column_2    0.690548\n",
       "column_3    0.585424\n",
       "column_4    0.694397\n",
       "column_5    0.426887\n",
       "column_6    0.644720\n",
       "dtype: float64"
      ]
     },
     "execution_count": 55,
     "metadata": {},
     "output_type": "execute_result"
    }
   ],
   "source": [
    "df1.mean()"
   ]
  },
  {
   "cell_type": "markdown",
   "id": "d782702e-0115-4b8c-b385-95ae4d0598dc",
   "metadata": {},
   "source": [
    "Q6. What do you understand about the windows function in pandas and list the types of windows\r\n",
    "functions?"
   ]
  },
  {
   "cell_type": "code",
   "execution_count": null,
   "id": "92c3ce33-827f-4a50-88d2-4b59f71392a0",
   "metadata": {},
   "outputs": [],
   "source": []
  },
  {
   "cell_type": "code",
   "execution_count": null,
   "id": "dba9c5b6-4378-472a-aca2-0b72bc0a6a42",
   "metadata": {},
   "outputs": [],
   "source": []
  },
  {
   "cell_type": "code",
   "execution_count": null,
   "id": "ee3de027-1221-4317-a71d-de9b31898573",
   "metadata": {},
   "outputs": [],
   "source": []
  },
  {
   "cell_type": "code",
   "execution_count": null,
   "id": "4ee268e1-33e2-4f73-811a-0a4f79356068",
   "metadata": {},
   "outputs": [],
   "source": []
  },
  {
   "cell_type": "code",
   "execution_count": null,
   "id": "05dac6b1-6254-4709-baf8-2822cf8e0124",
   "metadata": {},
   "outputs": [],
   "source": []
  }
 ],
 "metadata": {
  "kernelspec": {
   "display_name": "Python 3 (ipykernel)",
   "language": "python",
   "name": "python3"
  },
  "language_info": {
   "codemirror_mode": {
    "name": "ipython",
    "version": 3
   },
   "file_extension": ".py",
   "mimetype": "text/x-python",
   "name": "python",
   "nbconvert_exporter": "python",
   "pygments_lexer": "ipython3",
   "version": "3.11.4"
  }
 },
 "nbformat": 4,
 "nbformat_minor": 5
}
